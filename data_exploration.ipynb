{
  "nbformat": 4,
  "nbformat_minor": 0,
  "metadata": {
    "colab": {
      "provenance": [],
      "gpuType": "T4",
      "toc_visible": true,
      "authorship_tag": "ABX9TyNX/eMaqXZRS3zJo7G9ivUQ",
      "include_colab_link": true
    },
    "kernelspec": {
      "name": "python3",
      "display_name": "Python 3"
    },
    "language_info": {
      "name": "python"
    },
    "accelerator": "GPU"
  },
  "cells": [
    {
      "cell_type": "markdown",
      "metadata": {
        "id": "view-in-github",
        "colab_type": "text"
      },
      "source": [
        "<a href=\"https://colab.research.google.com/github/HarinduR/Bank_Marketing_Using_Machine_Learning/blob/master/data_exploration.ipynb\" target=\"_parent\"><img src=\"https://colab.research.google.com/assets/colab-badge.svg\" alt=\"Open In Colab\"/></a>"
      ]
    },
    {
      "cell_type": "markdown",
      "source": [
        "# **Bank Marketing using ML**\n",
        "# CM2604 - Machine Learning\n",
        "## Individual Coursework\n",
        "### H K H R Induwara - 2330917 - 20230712"
      ],
      "metadata": {
        "id": "JCWQCdfzA0pv"
      }
    },
    {
      "cell_type": "markdown",
      "source": [
        "## Handle Raw dataset"
      ],
      "metadata": {
        "id": "wfto6lGDE8Gj"
      }
    },
    {
      "cell_type": "code",
      "source": [
        "from google.colab import drive\n",
        "drive.mount('/content/drive')\n"
      ],
      "metadata": {
        "colab": {
          "base_uri": "https://localhost:8080/"
        },
        "id": "d3wRtn2T74M7",
        "outputId": "53d3e7d5-365d-4d14-ec48-7d305699a086"
      },
      "execution_count": 1,
      "outputs": [
        {
          "output_type": "stream",
          "name": "stdout",
          "text": [
            "Mounted at /content/drive\n"
          ]
        }
      ]
    },
    {
      "cell_type": "code",
      "execution_count": 2,
      "metadata": {
        "id": "SBR6h5z_e01w"
      },
      "outputs": [],
      "source": [
        "# import libraries\n",
        "import pandas as pd\n",
        "import numpy as np\n",
        "import seaborn as sns\n",
        "import matplotlib.pyplot as plt"
      ]
    },
    {
      "cell_type": "code",
      "source": [
        "file_path_additional_full = \"/content/drive/MyDrive/MLCW/bank-additional-full.csv\""
      ],
      "metadata": {
        "id": "Vxd3a5C0g0m6"
      },
      "execution_count": 3,
      "outputs": []
    },
    {
      "cell_type": "markdown",
      "source": [
        "*   I load the Bank Additional Full dataset to prepare it as a clean dataset"
      ],
      "metadata": {
        "id": "cvLSijEe-VGk"
      }
    },
    {
      "cell_type": "code",
      "source": [
        "dataset_full = pd.read_csv(file_path_additional_full, sep=\";\", engine='python')"
      ],
      "metadata": {
        "id": "1jIAmZc4iO_E"
      },
      "execution_count": 4,
      "outputs": []
    },
    {
      "cell_type": "code",
      "source": [
        "dataset_full.shape"
      ],
      "metadata": {
        "colab": {
          "base_uri": "https://localhost:8080/"
        },
        "id": "0l3UB5gOD7_x",
        "outputId": "8205cb9e-99f4-47d0-9c6e-07d5fed6b7dd"
      },
      "execution_count": 5,
      "outputs": [
        {
          "output_type": "execute_result",
          "data": {
            "text/plain": [
              "(41188, 21)"
            ]
          },
          "metadata": {},
          "execution_count": 5
        }
      ]
    },
    {
      "cell_type": "code",
      "source": [
        "print(dataset_full.info())"
      ],
      "metadata": {
        "colab": {
          "base_uri": "https://localhost:8080/"
        },
        "id": "AukbZyRy9XPn",
        "outputId": "ab0a9e33-0460-4915-81a0-e7f214c1a620"
      },
      "execution_count": 6,
      "outputs": [
        {
          "output_type": "stream",
          "name": "stdout",
          "text": [
            "<class 'pandas.core.frame.DataFrame'>\n",
            "RangeIndex: 41188 entries, 0 to 41187\n",
            "Data columns (total 21 columns):\n",
            " #   Column          Non-Null Count  Dtype  \n",
            "---  ------          --------------  -----  \n",
            " 0   age             41188 non-null  int64  \n",
            " 1   job             41188 non-null  object \n",
            " 2   marital         41188 non-null  object \n",
            " 3   education       41188 non-null  object \n",
            " 4   default         41188 non-null  object \n",
            " 5   housing         41188 non-null  object \n",
            " 6   loan            41188 non-null  object \n",
            " 7   contact         41188 non-null  object \n",
            " 8   month           41188 non-null  object \n",
            " 9   day_of_week     41188 non-null  object \n",
            " 10  duration        41188 non-null  int64  \n",
            " 11  campaign        41188 non-null  int64  \n",
            " 12  pdays           41188 non-null  int64  \n",
            " 13  previous        41188 non-null  int64  \n",
            " 14  poutcome        41188 non-null  object \n",
            " 15  emp.var.rate    41188 non-null  float64\n",
            " 16  cons.price.idx  41188 non-null  float64\n",
            " 17  cons.conf.idx   41188 non-null  float64\n",
            " 18  euribor3m       41188 non-null  float64\n",
            " 19  nr.employed     41188 non-null  float64\n",
            " 20  y               41188 non-null  object \n",
            "dtypes: float64(5), int64(5), object(11)\n",
            "memory usage: 6.6+ MB\n",
            "None\n"
          ]
        }
      ]
    },
    {
      "cell_type": "code",
      "source": [
        "print(dataset_full.describe(include='all'))"
      ],
      "metadata": {
        "colab": {
          "base_uri": "https://localhost:8080/"
        },
        "id": "vu1e1bDJihdO",
        "outputId": "de29299e-cef8-48c0-8ddd-6ca3971bbe3d"
      },
      "execution_count": 7,
      "outputs": [
        {
          "output_type": "stream",
          "name": "stdout",
          "text": [
            "                age     job  marital          education default housing  \\\n",
            "count   41188.00000   41188    41188              41188   41188   41188   \n",
            "unique          NaN      12        4                  8       3       3   \n",
            "top             NaN  admin.  married  university.degree      no     yes   \n",
            "freq            NaN   10422    24928              12168   32588   21576   \n",
            "mean       40.02406     NaN      NaN                NaN     NaN     NaN   \n",
            "std        10.42125     NaN      NaN                NaN     NaN     NaN   \n",
            "min        17.00000     NaN      NaN                NaN     NaN     NaN   \n",
            "25%        32.00000     NaN      NaN                NaN     NaN     NaN   \n",
            "50%        38.00000     NaN      NaN                NaN     NaN     NaN   \n",
            "75%        47.00000     NaN      NaN                NaN     NaN     NaN   \n",
            "max        98.00000     NaN      NaN                NaN     NaN     NaN   \n",
            "\n",
            "         loan   contact  month day_of_week  ...      campaign         pdays  \\\n",
            "count   41188     41188  41188       41188  ...  41188.000000  41188.000000   \n",
            "unique      3         2     10           5  ...           NaN           NaN   \n",
            "top        no  cellular    may         thu  ...           NaN           NaN   \n",
            "freq    33950     26144  13769        8623  ...           NaN           NaN   \n",
            "mean      NaN       NaN    NaN         NaN  ...      2.567593    962.475454   \n",
            "std       NaN       NaN    NaN         NaN  ...      2.770014    186.910907   \n",
            "min       NaN       NaN    NaN         NaN  ...      1.000000      0.000000   \n",
            "25%       NaN       NaN    NaN         NaN  ...      1.000000    999.000000   \n",
            "50%       NaN       NaN    NaN         NaN  ...      2.000000    999.000000   \n",
            "75%       NaN       NaN    NaN         NaN  ...      3.000000    999.000000   \n",
            "max       NaN       NaN    NaN         NaN  ...     56.000000    999.000000   \n",
            "\n",
            "            previous     poutcome  emp.var.rate  cons.price.idx  \\\n",
            "count   41188.000000        41188  41188.000000    41188.000000   \n",
            "unique           NaN            3           NaN             NaN   \n",
            "top              NaN  nonexistent           NaN             NaN   \n",
            "freq             NaN        35563           NaN             NaN   \n",
            "mean        0.172963          NaN      0.081886       93.575664   \n",
            "std         0.494901          NaN      1.570960        0.578840   \n",
            "min         0.000000          NaN     -3.400000       92.201000   \n",
            "25%         0.000000          NaN     -1.800000       93.075000   \n",
            "50%         0.000000          NaN      1.100000       93.749000   \n",
            "75%         0.000000          NaN      1.400000       93.994000   \n",
            "max         7.000000          NaN      1.400000       94.767000   \n",
            "\n",
            "        cons.conf.idx     euribor3m   nr.employed      y  \n",
            "count    41188.000000  41188.000000  41188.000000  41188  \n",
            "unique            NaN           NaN           NaN      2  \n",
            "top               NaN           NaN           NaN     no  \n",
            "freq              NaN           NaN           NaN  36548  \n",
            "mean       -40.502600      3.621291   5167.035911    NaN  \n",
            "std          4.628198      1.734447     72.251528    NaN  \n",
            "min        -50.800000      0.634000   4963.600000    NaN  \n",
            "25%        -42.700000      1.344000   5099.100000    NaN  \n",
            "50%        -41.800000      4.857000   5191.000000    NaN  \n",
            "75%        -36.400000      4.961000   5228.100000    NaN  \n",
            "max        -26.900000      5.045000   5228.100000    NaN  \n",
            "\n",
            "[11 rows x 21 columns]\n"
          ]
        }
      ]
    },
    {
      "cell_type": "code",
      "source": [
        "print(dataset_full.isnull().sum())"
      ],
      "metadata": {
        "colab": {
          "base_uri": "https://localhost:8080/"
        },
        "id": "1b87J1tzioh4",
        "outputId": "23427cb8-4d88-4a1a-e022-10eef5ed4f2d"
      },
      "execution_count": 8,
      "outputs": [
        {
          "output_type": "stream",
          "name": "stdout",
          "text": [
            "age               0\n",
            "job               0\n",
            "marital           0\n",
            "education         0\n",
            "default           0\n",
            "housing           0\n",
            "loan              0\n",
            "contact           0\n",
            "month             0\n",
            "day_of_week       0\n",
            "duration          0\n",
            "campaign          0\n",
            "pdays             0\n",
            "previous          0\n",
            "poutcome          0\n",
            "emp.var.rate      0\n",
            "cons.price.idx    0\n",
            "cons.conf.idx     0\n",
            "euribor3m         0\n",
            "nr.employed       0\n",
            "y                 0\n",
            "dtype: int64\n"
          ]
        }
      ]
    },
    {
      "cell_type": "code",
      "source": [
        "for col in dataset_full.select_dtypes(include='object').columns:\n",
        "    print(col)\n",
        "    print(dataset_full[col].unique())"
      ],
      "metadata": {
        "colab": {
          "base_uri": "https://localhost:8080/"
        },
        "id": "UE1HOH7AEmX1",
        "outputId": "a0aacef1-6635-4c7a-8752-607b734c170e"
      },
      "execution_count": 9,
      "outputs": [
        {
          "output_type": "stream",
          "name": "stdout",
          "text": [
            "job\n",
            "['housemaid' 'services' 'admin.' 'blue-collar' 'technician' 'retired'\n",
            " 'management' 'unemployed' 'self-employed' 'unknown' 'entrepreneur'\n",
            " 'student']\n",
            "marital\n",
            "['married' 'single' 'divorced' 'unknown']\n",
            "education\n",
            "['basic.4y' 'high.school' 'basic.6y' 'basic.9y' 'professional.course'\n",
            " 'unknown' 'university.degree' 'illiterate']\n",
            "default\n",
            "['no' 'unknown' 'yes']\n",
            "housing\n",
            "['no' 'yes' 'unknown']\n",
            "loan\n",
            "['no' 'yes' 'unknown']\n",
            "contact\n",
            "['telephone' 'cellular']\n",
            "month\n",
            "['may' 'jun' 'jul' 'aug' 'oct' 'nov' 'dec' 'mar' 'apr' 'sep']\n",
            "day_of_week\n",
            "['mon' 'tue' 'wed' 'thu' 'fri']\n",
            "poutcome\n",
            "['nonexistent' 'failure' 'success']\n",
            "y\n",
            "['no' 'yes']\n"
          ]
        }
      ]
    },
    {
      "cell_type": "code",
      "source": [
        "cleaned_file_path_full = \"/content/drive/MyDrive/MLCW/bank_additional_full_cleaned.csv\"\n",
        "dataset_full.to_csv(cleaned_file_path_full, index=False)\n",
        "\n",
        "print(\"Datasets successfully cleaned and saved!\")"
      ],
      "metadata": {
        "colab": {
          "base_uri": "https://localhost:8080/"
        },
        "id": "0cZNM9KqBUdR",
        "outputId": "c03af95e-221d-4b1e-c37b-92b03b7ac56f"
      },
      "execution_count": 10,
      "outputs": [
        {
          "output_type": "stream",
          "name": "stdout",
          "text": [
            "Datasets successfully cleaned and saved!\n"
          ]
        }
      ]
    },
    {
      "cell_type": "markdown",
      "source": [
        "Check the shape of the dataset, overview of data types and null values, statistical summaries for numeric columns and save as a clean dataset with separete columns."
      ],
      "metadata": {
        "id": "T97Lo5AD-5mI"
      }
    },
    {
      "cell_type": "markdown",
      "source": [
        "## Handle Unknown Value\n"
      ],
      "metadata": {
        "id": "BsT3pr2kFG8K"
      }
    },
    {
      "cell_type": "code",
      "source": [
        "file_path = \"/content/drive/MyDrive/MLCW/bank_additional_full_cleaned.csv\"\n",
        "dataset = pd.read_csv(file_path)"
      ],
      "metadata": {
        "id": "KPjEhfvmayUi"
      },
      "execution_count": 11,
      "outputs": []
    },
    {
      "cell_type": "code",
      "source": [
        "dataset.shape"
      ],
      "metadata": {
        "colab": {
          "base_uri": "https://localhost:8080/"
        },
        "id": "rAFJ1_c2dFD_",
        "outputId": "c9d35cce-3b02-4dca-b2aa-522dad9b4b3e"
      },
      "execution_count": 12,
      "outputs": [
        {
          "output_type": "execute_result",
          "data": {
            "text/plain": [
              "(41188, 21)"
            ]
          },
          "metadata": {},
          "execution_count": 12
        }
      ]
    },
    {
      "cell_type": "code",
      "source": [
        "dataset.head(10)"
      ],
      "metadata": {
        "colab": {
          "base_uri": "https://localhost:8080/",
          "height": 412
        },
        "id": "A_nh2Q9Im60Q",
        "outputId": "21582e84-57c9-4998-d85a-440735928e4d"
      },
      "execution_count": 13,
      "outputs": [
        {
          "output_type": "execute_result",
          "data": {
            "text/plain": [
              "   age          job  marital            education  default housing loan  \\\n",
              "0   56    housemaid  married             basic.4y       no      no   no   \n",
              "1   57     services  married          high.school  unknown      no   no   \n",
              "2   37     services  married          high.school       no     yes   no   \n",
              "3   40       admin.  married             basic.6y       no      no   no   \n",
              "4   56     services  married          high.school       no      no  yes   \n",
              "5   45     services  married             basic.9y  unknown      no   no   \n",
              "6   59       admin.  married  professional.course       no      no   no   \n",
              "7   41  blue-collar  married              unknown  unknown      no   no   \n",
              "8   24   technician   single  professional.course       no     yes   no   \n",
              "9   25     services   single          high.school       no     yes   no   \n",
              "\n",
              "     contact month day_of_week  ...  campaign  pdays  previous     poutcome  \\\n",
              "0  telephone   may         mon  ...         1    999         0  nonexistent   \n",
              "1  telephone   may         mon  ...         1    999         0  nonexistent   \n",
              "2  telephone   may         mon  ...         1    999         0  nonexistent   \n",
              "3  telephone   may         mon  ...         1    999         0  nonexistent   \n",
              "4  telephone   may         mon  ...         1    999         0  nonexistent   \n",
              "5  telephone   may         mon  ...         1    999         0  nonexistent   \n",
              "6  telephone   may         mon  ...         1    999         0  nonexistent   \n",
              "7  telephone   may         mon  ...         1    999         0  nonexistent   \n",
              "8  telephone   may         mon  ...         1    999         0  nonexistent   \n",
              "9  telephone   may         mon  ...         1    999         0  nonexistent   \n",
              "\n",
              "  emp.var.rate  cons.price.idx  cons.conf.idx  euribor3m  nr.employed   y  \n",
              "0          1.1          93.994          -36.4      4.857       5191.0  no  \n",
              "1          1.1          93.994          -36.4      4.857       5191.0  no  \n",
              "2          1.1          93.994          -36.4      4.857       5191.0  no  \n",
              "3          1.1          93.994          -36.4      4.857       5191.0  no  \n",
              "4          1.1          93.994          -36.4      4.857       5191.0  no  \n",
              "5          1.1          93.994          -36.4      4.857       5191.0  no  \n",
              "6          1.1          93.994          -36.4      4.857       5191.0  no  \n",
              "7          1.1          93.994          -36.4      4.857       5191.0  no  \n",
              "8          1.1          93.994          -36.4      4.857       5191.0  no  \n",
              "9          1.1          93.994          -36.4      4.857       5191.0  no  \n",
              "\n",
              "[10 rows x 21 columns]"
            ],
            "text/html": [
              "\n",
              "  <div id=\"df-e5347f98-7f64-4493-b31a-813fd54d1b97\" class=\"colab-df-container\">\n",
              "    <div>\n",
              "<style scoped>\n",
              "    .dataframe tbody tr th:only-of-type {\n",
              "        vertical-align: middle;\n",
              "    }\n",
              "\n",
              "    .dataframe tbody tr th {\n",
              "        vertical-align: top;\n",
              "    }\n",
              "\n",
              "    .dataframe thead th {\n",
              "        text-align: right;\n",
              "    }\n",
              "</style>\n",
              "<table border=\"1\" class=\"dataframe\">\n",
              "  <thead>\n",
              "    <tr style=\"text-align: right;\">\n",
              "      <th></th>\n",
              "      <th>age</th>\n",
              "      <th>job</th>\n",
              "      <th>marital</th>\n",
              "      <th>education</th>\n",
              "      <th>default</th>\n",
              "      <th>housing</th>\n",
              "      <th>loan</th>\n",
              "      <th>contact</th>\n",
              "      <th>month</th>\n",
              "      <th>day_of_week</th>\n",
              "      <th>...</th>\n",
              "      <th>campaign</th>\n",
              "      <th>pdays</th>\n",
              "      <th>previous</th>\n",
              "      <th>poutcome</th>\n",
              "      <th>emp.var.rate</th>\n",
              "      <th>cons.price.idx</th>\n",
              "      <th>cons.conf.idx</th>\n",
              "      <th>euribor3m</th>\n",
              "      <th>nr.employed</th>\n",
              "      <th>y</th>\n",
              "    </tr>\n",
              "  </thead>\n",
              "  <tbody>\n",
              "    <tr>\n",
              "      <th>0</th>\n",
              "      <td>56</td>\n",
              "      <td>housemaid</td>\n",
              "      <td>married</td>\n",
              "      <td>basic.4y</td>\n",
              "      <td>no</td>\n",
              "      <td>no</td>\n",
              "      <td>no</td>\n",
              "      <td>telephone</td>\n",
              "      <td>may</td>\n",
              "      <td>mon</td>\n",
              "      <td>...</td>\n",
              "      <td>1</td>\n",
              "      <td>999</td>\n",
              "      <td>0</td>\n",
              "      <td>nonexistent</td>\n",
              "      <td>1.1</td>\n",
              "      <td>93.994</td>\n",
              "      <td>-36.4</td>\n",
              "      <td>4.857</td>\n",
              "      <td>5191.0</td>\n",
              "      <td>no</td>\n",
              "    </tr>\n",
              "    <tr>\n",
              "      <th>1</th>\n",
              "      <td>57</td>\n",
              "      <td>services</td>\n",
              "      <td>married</td>\n",
              "      <td>high.school</td>\n",
              "      <td>unknown</td>\n",
              "      <td>no</td>\n",
              "      <td>no</td>\n",
              "      <td>telephone</td>\n",
              "      <td>may</td>\n",
              "      <td>mon</td>\n",
              "      <td>...</td>\n",
              "      <td>1</td>\n",
              "      <td>999</td>\n",
              "      <td>0</td>\n",
              "      <td>nonexistent</td>\n",
              "      <td>1.1</td>\n",
              "      <td>93.994</td>\n",
              "      <td>-36.4</td>\n",
              "      <td>4.857</td>\n",
              "      <td>5191.0</td>\n",
              "      <td>no</td>\n",
              "    </tr>\n",
              "    <tr>\n",
              "      <th>2</th>\n",
              "      <td>37</td>\n",
              "      <td>services</td>\n",
              "      <td>married</td>\n",
              "      <td>high.school</td>\n",
              "      <td>no</td>\n",
              "      <td>yes</td>\n",
              "      <td>no</td>\n",
              "      <td>telephone</td>\n",
              "      <td>may</td>\n",
              "      <td>mon</td>\n",
              "      <td>...</td>\n",
              "      <td>1</td>\n",
              "      <td>999</td>\n",
              "      <td>0</td>\n",
              "      <td>nonexistent</td>\n",
              "      <td>1.1</td>\n",
              "      <td>93.994</td>\n",
              "      <td>-36.4</td>\n",
              "      <td>4.857</td>\n",
              "      <td>5191.0</td>\n",
              "      <td>no</td>\n",
              "    </tr>\n",
              "    <tr>\n",
              "      <th>3</th>\n",
              "      <td>40</td>\n",
              "      <td>admin.</td>\n",
              "      <td>married</td>\n",
              "      <td>basic.6y</td>\n",
              "      <td>no</td>\n",
              "      <td>no</td>\n",
              "      <td>no</td>\n",
              "      <td>telephone</td>\n",
              "      <td>may</td>\n",
              "      <td>mon</td>\n",
              "      <td>...</td>\n",
              "      <td>1</td>\n",
              "      <td>999</td>\n",
              "      <td>0</td>\n",
              "      <td>nonexistent</td>\n",
              "      <td>1.1</td>\n",
              "      <td>93.994</td>\n",
              "      <td>-36.4</td>\n",
              "      <td>4.857</td>\n",
              "      <td>5191.0</td>\n",
              "      <td>no</td>\n",
              "    </tr>\n",
              "    <tr>\n",
              "      <th>4</th>\n",
              "      <td>56</td>\n",
              "      <td>services</td>\n",
              "      <td>married</td>\n",
              "      <td>high.school</td>\n",
              "      <td>no</td>\n",
              "      <td>no</td>\n",
              "      <td>yes</td>\n",
              "      <td>telephone</td>\n",
              "      <td>may</td>\n",
              "      <td>mon</td>\n",
              "      <td>...</td>\n",
              "      <td>1</td>\n",
              "      <td>999</td>\n",
              "      <td>0</td>\n",
              "      <td>nonexistent</td>\n",
              "      <td>1.1</td>\n",
              "      <td>93.994</td>\n",
              "      <td>-36.4</td>\n",
              "      <td>4.857</td>\n",
              "      <td>5191.0</td>\n",
              "      <td>no</td>\n",
              "    </tr>\n",
              "    <tr>\n",
              "      <th>5</th>\n",
              "      <td>45</td>\n",
              "      <td>services</td>\n",
              "      <td>married</td>\n",
              "      <td>basic.9y</td>\n",
              "      <td>unknown</td>\n",
              "      <td>no</td>\n",
              "      <td>no</td>\n",
              "      <td>telephone</td>\n",
              "      <td>may</td>\n",
              "      <td>mon</td>\n",
              "      <td>...</td>\n",
              "      <td>1</td>\n",
              "      <td>999</td>\n",
              "      <td>0</td>\n",
              "      <td>nonexistent</td>\n",
              "      <td>1.1</td>\n",
              "      <td>93.994</td>\n",
              "      <td>-36.4</td>\n",
              "      <td>4.857</td>\n",
              "      <td>5191.0</td>\n",
              "      <td>no</td>\n",
              "    </tr>\n",
              "    <tr>\n",
              "      <th>6</th>\n",
              "      <td>59</td>\n",
              "      <td>admin.</td>\n",
              "      <td>married</td>\n",
              "      <td>professional.course</td>\n",
              "      <td>no</td>\n",
              "      <td>no</td>\n",
              "      <td>no</td>\n",
              "      <td>telephone</td>\n",
              "      <td>may</td>\n",
              "      <td>mon</td>\n",
              "      <td>...</td>\n",
              "      <td>1</td>\n",
              "      <td>999</td>\n",
              "      <td>0</td>\n",
              "      <td>nonexistent</td>\n",
              "      <td>1.1</td>\n",
              "      <td>93.994</td>\n",
              "      <td>-36.4</td>\n",
              "      <td>4.857</td>\n",
              "      <td>5191.0</td>\n",
              "      <td>no</td>\n",
              "    </tr>\n",
              "    <tr>\n",
              "      <th>7</th>\n",
              "      <td>41</td>\n",
              "      <td>blue-collar</td>\n",
              "      <td>married</td>\n",
              "      <td>unknown</td>\n",
              "      <td>unknown</td>\n",
              "      <td>no</td>\n",
              "      <td>no</td>\n",
              "      <td>telephone</td>\n",
              "      <td>may</td>\n",
              "      <td>mon</td>\n",
              "      <td>...</td>\n",
              "      <td>1</td>\n",
              "      <td>999</td>\n",
              "      <td>0</td>\n",
              "      <td>nonexistent</td>\n",
              "      <td>1.1</td>\n",
              "      <td>93.994</td>\n",
              "      <td>-36.4</td>\n",
              "      <td>4.857</td>\n",
              "      <td>5191.0</td>\n",
              "      <td>no</td>\n",
              "    </tr>\n",
              "    <tr>\n",
              "      <th>8</th>\n",
              "      <td>24</td>\n",
              "      <td>technician</td>\n",
              "      <td>single</td>\n",
              "      <td>professional.course</td>\n",
              "      <td>no</td>\n",
              "      <td>yes</td>\n",
              "      <td>no</td>\n",
              "      <td>telephone</td>\n",
              "      <td>may</td>\n",
              "      <td>mon</td>\n",
              "      <td>...</td>\n",
              "      <td>1</td>\n",
              "      <td>999</td>\n",
              "      <td>0</td>\n",
              "      <td>nonexistent</td>\n",
              "      <td>1.1</td>\n",
              "      <td>93.994</td>\n",
              "      <td>-36.4</td>\n",
              "      <td>4.857</td>\n",
              "      <td>5191.0</td>\n",
              "      <td>no</td>\n",
              "    </tr>\n",
              "    <tr>\n",
              "      <th>9</th>\n",
              "      <td>25</td>\n",
              "      <td>services</td>\n",
              "      <td>single</td>\n",
              "      <td>high.school</td>\n",
              "      <td>no</td>\n",
              "      <td>yes</td>\n",
              "      <td>no</td>\n",
              "      <td>telephone</td>\n",
              "      <td>may</td>\n",
              "      <td>mon</td>\n",
              "      <td>...</td>\n",
              "      <td>1</td>\n",
              "      <td>999</td>\n",
              "      <td>0</td>\n",
              "      <td>nonexistent</td>\n",
              "      <td>1.1</td>\n",
              "      <td>93.994</td>\n",
              "      <td>-36.4</td>\n",
              "      <td>4.857</td>\n",
              "      <td>5191.0</td>\n",
              "      <td>no</td>\n",
              "    </tr>\n",
              "  </tbody>\n",
              "</table>\n",
              "<p>10 rows × 21 columns</p>\n",
              "</div>\n",
              "    <div class=\"colab-df-buttons\">\n",
              "\n",
              "  <div class=\"colab-df-container\">\n",
              "    <button class=\"colab-df-convert\" onclick=\"convertToInteractive('df-e5347f98-7f64-4493-b31a-813fd54d1b97')\"\n",
              "            title=\"Convert this dataframe to an interactive table.\"\n",
              "            style=\"display:none;\">\n",
              "\n",
              "  <svg xmlns=\"http://www.w3.org/2000/svg\" height=\"24px\" viewBox=\"0 -960 960 960\">\n",
              "    <path d=\"M120-120v-720h720v720H120Zm60-500h600v-160H180v160Zm220 220h160v-160H400v160Zm0 220h160v-160H400v160ZM180-400h160v-160H180v160Zm440 0h160v-160H620v160ZM180-180h160v-160H180v160Zm440 0h160v-160H620v160Z\"/>\n",
              "  </svg>\n",
              "    </button>\n",
              "\n",
              "  <style>\n",
              "    .colab-df-container {\n",
              "      display:flex;\n",
              "      gap: 12px;\n",
              "    }\n",
              "\n",
              "    .colab-df-convert {\n",
              "      background-color: #E8F0FE;\n",
              "      border: none;\n",
              "      border-radius: 50%;\n",
              "      cursor: pointer;\n",
              "      display: none;\n",
              "      fill: #1967D2;\n",
              "      height: 32px;\n",
              "      padding: 0 0 0 0;\n",
              "      width: 32px;\n",
              "    }\n",
              "\n",
              "    .colab-df-convert:hover {\n",
              "      background-color: #E2EBFA;\n",
              "      box-shadow: 0px 1px 2px rgba(60, 64, 67, 0.3), 0px 1px 3px 1px rgba(60, 64, 67, 0.15);\n",
              "      fill: #174EA6;\n",
              "    }\n",
              "\n",
              "    .colab-df-buttons div {\n",
              "      margin-bottom: 4px;\n",
              "    }\n",
              "\n",
              "    [theme=dark] .colab-df-convert {\n",
              "      background-color: #3B4455;\n",
              "      fill: #D2E3FC;\n",
              "    }\n",
              "\n",
              "    [theme=dark] .colab-df-convert:hover {\n",
              "      background-color: #434B5C;\n",
              "      box-shadow: 0px 1px 3px 1px rgba(0, 0, 0, 0.15);\n",
              "      filter: drop-shadow(0px 1px 2px rgba(0, 0, 0, 0.3));\n",
              "      fill: #FFFFFF;\n",
              "    }\n",
              "  </style>\n",
              "\n",
              "    <script>\n",
              "      const buttonEl =\n",
              "        document.querySelector('#df-e5347f98-7f64-4493-b31a-813fd54d1b97 button.colab-df-convert');\n",
              "      buttonEl.style.display =\n",
              "        google.colab.kernel.accessAllowed ? 'block' : 'none';\n",
              "\n",
              "      async function convertToInteractive(key) {\n",
              "        const element = document.querySelector('#df-e5347f98-7f64-4493-b31a-813fd54d1b97');\n",
              "        const dataTable =\n",
              "          await google.colab.kernel.invokeFunction('convertToInteractive',\n",
              "                                                    [key], {});\n",
              "        if (!dataTable) return;\n",
              "\n",
              "        const docLinkHtml = 'Like what you see? Visit the ' +\n",
              "          '<a target=\"_blank\" href=https://colab.research.google.com/notebooks/data_table.ipynb>data table notebook</a>'\n",
              "          + ' to learn more about interactive tables.';\n",
              "        element.innerHTML = '';\n",
              "        dataTable['output_type'] = 'display_data';\n",
              "        await google.colab.output.renderOutput(dataTable, element);\n",
              "        const docLink = document.createElement('div');\n",
              "        docLink.innerHTML = docLinkHtml;\n",
              "        element.appendChild(docLink);\n",
              "      }\n",
              "    </script>\n",
              "  </div>\n",
              "\n",
              "\n",
              "<div id=\"df-1aabc58c-c49a-4228-b105-49e6a73f0da1\">\n",
              "  <button class=\"colab-df-quickchart\" onclick=\"quickchart('df-1aabc58c-c49a-4228-b105-49e6a73f0da1')\"\n",
              "            title=\"Suggest charts\"\n",
              "            style=\"display:none;\">\n",
              "\n",
              "<svg xmlns=\"http://www.w3.org/2000/svg\" height=\"24px\"viewBox=\"0 0 24 24\"\n",
              "     width=\"24px\">\n",
              "    <g>\n",
              "        <path d=\"M19 3H5c-1.1 0-2 .9-2 2v14c0 1.1.9 2 2 2h14c1.1 0 2-.9 2-2V5c0-1.1-.9-2-2-2zM9 17H7v-7h2v7zm4 0h-2V7h2v10zm4 0h-2v-4h2v4z\"/>\n",
              "    </g>\n",
              "</svg>\n",
              "  </button>\n",
              "\n",
              "<style>\n",
              "  .colab-df-quickchart {\n",
              "      --bg-color: #E8F0FE;\n",
              "      --fill-color: #1967D2;\n",
              "      --hover-bg-color: #E2EBFA;\n",
              "      --hover-fill-color: #174EA6;\n",
              "      --disabled-fill-color: #AAA;\n",
              "      --disabled-bg-color: #DDD;\n",
              "  }\n",
              "\n",
              "  [theme=dark] .colab-df-quickchart {\n",
              "      --bg-color: #3B4455;\n",
              "      --fill-color: #D2E3FC;\n",
              "      --hover-bg-color: #434B5C;\n",
              "      --hover-fill-color: #FFFFFF;\n",
              "      --disabled-bg-color: #3B4455;\n",
              "      --disabled-fill-color: #666;\n",
              "  }\n",
              "\n",
              "  .colab-df-quickchart {\n",
              "    background-color: var(--bg-color);\n",
              "    border: none;\n",
              "    border-radius: 50%;\n",
              "    cursor: pointer;\n",
              "    display: none;\n",
              "    fill: var(--fill-color);\n",
              "    height: 32px;\n",
              "    padding: 0;\n",
              "    width: 32px;\n",
              "  }\n",
              "\n",
              "  .colab-df-quickchart:hover {\n",
              "    background-color: var(--hover-bg-color);\n",
              "    box-shadow: 0 1px 2px rgba(60, 64, 67, 0.3), 0 1px 3px 1px rgba(60, 64, 67, 0.15);\n",
              "    fill: var(--button-hover-fill-color);\n",
              "  }\n",
              "\n",
              "  .colab-df-quickchart-complete:disabled,\n",
              "  .colab-df-quickchart-complete:disabled:hover {\n",
              "    background-color: var(--disabled-bg-color);\n",
              "    fill: var(--disabled-fill-color);\n",
              "    box-shadow: none;\n",
              "  }\n",
              "\n",
              "  .colab-df-spinner {\n",
              "    border: 2px solid var(--fill-color);\n",
              "    border-color: transparent;\n",
              "    border-bottom-color: var(--fill-color);\n",
              "    animation:\n",
              "      spin 1s steps(1) infinite;\n",
              "  }\n",
              "\n",
              "  @keyframes spin {\n",
              "    0% {\n",
              "      border-color: transparent;\n",
              "      border-bottom-color: var(--fill-color);\n",
              "      border-left-color: var(--fill-color);\n",
              "    }\n",
              "    20% {\n",
              "      border-color: transparent;\n",
              "      border-left-color: var(--fill-color);\n",
              "      border-top-color: var(--fill-color);\n",
              "    }\n",
              "    30% {\n",
              "      border-color: transparent;\n",
              "      border-left-color: var(--fill-color);\n",
              "      border-top-color: var(--fill-color);\n",
              "      border-right-color: var(--fill-color);\n",
              "    }\n",
              "    40% {\n",
              "      border-color: transparent;\n",
              "      border-right-color: var(--fill-color);\n",
              "      border-top-color: var(--fill-color);\n",
              "    }\n",
              "    60% {\n",
              "      border-color: transparent;\n",
              "      border-right-color: var(--fill-color);\n",
              "    }\n",
              "    80% {\n",
              "      border-color: transparent;\n",
              "      border-right-color: var(--fill-color);\n",
              "      border-bottom-color: var(--fill-color);\n",
              "    }\n",
              "    90% {\n",
              "      border-color: transparent;\n",
              "      border-bottom-color: var(--fill-color);\n",
              "    }\n",
              "  }\n",
              "</style>\n",
              "\n",
              "  <script>\n",
              "    async function quickchart(key) {\n",
              "      const quickchartButtonEl =\n",
              "        document.querySelector('#' + key + ' button');\n",
              "      quickchartButtonEl.disabled = true;  // To prevent multiple clicks.\n",
              "      quickchartButtonEl.classList.add('colab-df-spinner');\n",
              "      try {\n",
              "        const charts = await google.colab.kernel.invokeFunction(\n",
              "            'suggestCharts', [key], {});\n",
              "      } catch (error) {\n",
              "        console.error('Error during call to suggestCharts:', error);\n",
              "      }\n",
              "      quickchartButtonEl.classList.remove('colab-df-spinner');\n",
              "      quickchartButtonEl.classList.add('colab-df-quickchart-complete');\n",
              "    }\n",
              "    (() => {\n",
              "      let quickchartButtonEl =\n",
              "        document.querySelector('#df-1aabc58c-c49a-4228-b105-49e6a73f0da1 button');\n",
              "      quickchartButtonEl.style.display =\n",
              "        google.colab.kernel.accessAllowed ? 'block' : 'none';\n",
              "    })();\n",
              "  </script>\n",
              "</div>\n",
              "\n",
              "    </div>\n",
              "  </div>\n"
            ],
            "application/vnd.google.colaboratory.intrinsic+json": {
              "type": "dataframe",
              "variable_name": "dataset"
            }
          },
          "metadata": {},
          "execution_count": 13
        }
      ]
    },
    {
      "cell_type": "code",
      "source": [
        "print(dataset.info())\n",
        "print(dataset.describe(include='all'))"
      ],
      "metadata": {
        "colab": {
          "base_uri": "https://localhost:8080/"
        },
        "id": "uYaYdWtLbEQO",
        "outputId": "6a92aeb8-b625-4d19-f83b-7f1562038cd5"
      },
      "execution_count": 14,
      "outputs": [
        {
          "output_type": "stream",
          "name": "stdout",
          "text": [
            "<class 'pandas.core.frame.DataFrame'>\n",
            "RangeIndex: 41188 entries, 0 to 41187\n",
            "Data columns (total 21 columns):\n",
            " #   Column          Non-Null Count  Dtype  \n",
            "---  ------          --------------  -----  \n",
            " 0   age             41188 non-null  int64  \n",
            " 1   job             41188 non-null  object \n",
            " 2   marital         41188 non-null  object \n",
            " 3   education       41188 non-null  object \n",
            " 4   default         41188 non-null  object \n",
            " 5   housing         41188 non-null  object \n",
            " 6   loan            41188 non-null  object \n",
            " 7   contact         41188 non-null  object \n",
            " 8   month           41188 non-null  object \n",
            " 9   day_of_week     41188 non-null  object \n",
            " 10  duration        41188 non-null  int64  \n",
            " 11  campaign        41188 non-null  int64  \n",
            " 12  pdays           41188 non-null  int64  \n",
            " 13  previous        41188 non-null  int64  \n",
            " 14  poutcome        41188 non-null  object \n",
            " 15  emp.var.rate    41188 non-null  float64\n",
            " 16  cons.price.idx  41188 non-null  float64\n",
            " 17  cons.conf.idx   41188 non-null  float64\n",
            " 18  euribor3m       41188 non-null  float64\n",
            " 19  nr.employed     41188 non-null  float64\n",
            " 20  y               41188 non-null  object \n",
            "dtypes: float64(5), int64(5), object(11)\n",
            "memory usage: 6.6+ MB\n",
            "None\n",
            "                age     job  marital          education default housing  \\\n",
            "count   41188.00000   41188    41188              41188   41188   41188   \n",
            "unique          NaN      12        4                  8       3       3   \n",
            "top             NaN  admin.  married  university.degree      no     yes   \n",
            "freq            NaN   10422    24928              12168   32588   21576   \n",
            "mean       40.02406     NaN      NaN                NaN     NaN     NaN   \n",
            "std        10.42125     NaN      NaN                NaN     NaN     NaN   \n",
            "min        17.00000     NaN      NaN                NaN     NaN     NaN   \n",
            "25%        32.00000     NaN      NaN                NaN     NaN     NaN   \n",
            "50%        38.00000     NaN      NaN                NaN     NaN     NaN   \n",
            "75%        47.00000     NaN      NaN                NaN     NaN     NaN   \n",
            "max        98.00000     NaN      NaN                NaN     NaN     NaN   \n",
            "\n",
            "         loan   contact  month day_of_week  ...      campaign         pdays  \\\n",
            "count   41188     41188  41188       41188  ...  41188.000000  41188.000000   \n",
            "unique      3         2     10           5  ...           NaN           NaN   \n",
            "top        no  cellular    may         thu  ...           NaN           NaN   \n",
            "freq    33950     26144  13769        8623  ...           NaN           NaN   \n",
            "mean      NaN       NaN    NaN         NaN  ...      2.567593    962.475454   \n",
            "std       NaN       NaN    NaN         NaN  ...      2.770014    186.910907   \n",
            "min       NaN       NaN    NaN         NaN  ...      1.000000      0.000000   \n",
            "25%       NaN       NaN    NaN         NaN  ...      1.000000    999.000000   \n",
            "50%       NaN       NaN    NaN         NaN  ...      2.000000    999.000000   \n",
            "75%       NaN       NaN    NaN         NaN  ...      3.000000    999.000000   \n",
            "max       NaN       NaN    NaN         NaN  ...     56.000000    999.000000   \n",
            "\n",
            "            previous     poutcome  emp.var.rate  cons.price.idx  \\\n",
            "count   41188.000000        41188  41188.000000    41188.000000   \n",
            "unique           NaN            3           NaN             NaN   \n",
            "top              NaN  nonexistent           NaN             NaN   \n",
            "freq             NaN        35563           NaN             NaN   \n",
            "mean        0.172963          NaN      0.081886       93.575664   \n",
            "std         0.494901          NaN      1.570960        0.578840   \n",
            "min         0.000000          NaN     -3.400000       92.201000   \n",
            "25%         0.000000          NaN     -1.800000       93.075000   \n",
            "50%         0.000000          NaN      1.100000       93.749000   \n",
            "75%         0.000000          NaN      1.400000       93.994000   \n",
            "max         7.000000          NaN      1.400000       94.767000   \n",
            "\n",
            "        cons.conf.idx     euribor3m   nr.employed      y  \n",
            "count    41188.000000  41188.000000  41188.000000  41188  \n",
            "unique            NaN           NaN           NaN      2  \n",
            "top               NaN           NaN           NaN     no  \n",
            "freq              NaN           NaN           NaN  36548  \n",
            "mean       -40.502600      3.621291   5167.035911    NaN  \n",
            "std          4.628198      1.734447     72.251528    NaN  \n",
            "min        -50.800000      0.634000   4963.600000    NaN  \n",
            "25%        -42.700000      1.344000   5099.100000    NaN  \n",
            "50%        -41.800000      4.857000   5191.000000    NaN  \n",
            "75%        -36.400000      4.961000   5228.100000    NaN  \n",
            "max        -26.900000      5.045000   5228.100000    NaN  \n",
            "\n",
            "[11 rows x 21 columns]\n"
          ]
        }
      ]
    },
    {
      "cell_type": "code",
      "source": [
        "categorical_cols = [\"job\", \"marital\", \"education\", \"default\", \"housing\", \"loan\", \"contact\", \"month\", \"day_of_week\", \"poutcome\"]\n",
        "for col in categorical_cols:\n",
        "    print(f\"Value counts for {col}:\\n\", dataset[col].value_counts())"
      ],
      "metadata": {
        "colab": {
          "base_uri": "https://localhost:8080/"
        },
        "id": "e5vTVhuxbGID",
        "outputId": "b03f881f-9029-416d-f389-a5f1cab2c739"
      },
      "execution_count": 15,
      "outputs": [
        {
          "output_type": "stream",
          "name": "stdout",
          "text": [
            "Value counts for job:\n",
            " job\n",
            "admin.           10422\n",
            "blue-collar       9254\n",
            "technician        6743\n",
            "services          3969\n",
            "management        2924\n",
            "retired           1720\n",
            "entrepreneur      1456\n",
            "self-employed     1421\n",
            "housemaid         1060\n",
            "unemployed        1014\n",
            "student            875\n",
            "unknown            330\n",
            "Name: count, dtype: int64\n",
            "Value counts for marital:\n",
            " marital\n",
            "married     24928\n",
            "single      11568\n",
            "divorced     4612\n",
            "unknown        80\n",
            "Name: count, dtype: int64\n",
            "Value counts for education:\n",
            " education\n",
            "university.degree      12168\n",
            "high.school             9515\n",
            "basic.9y                6045\n",
            "professional.course     5243\n",
            "basic.4y                4176\n",
            "basic.6y                2292\n",
            "unknown                 1731\n",
            "illiterate                18\n",
            "Name: count, dtype: int64\n",
            "Value counts for default:\n",
            " default\n",
            "no         32588\n",
            "unknown     8597\n",
            "yes            3\n",
            "Name: count, dtype: int64\n",
            "Value counts for housing:\n",
            " housing\n",
            "yes        21576\n",
            "no         18622\n",
            "unknown      990\n",
            "Name: count, dtype: int64\n",
            "Value counts for loan:\n",
            " loan\n",
            "no         33950\n",
            "yes         6248\n",
            "unknown      990\n",
            "Name: count, dtype: int64\n",
            "Value counts for contact:\n",
            " contact\n",
            "cellular     26144\n",
            "telephone    15044\n",
            "Name: count, dtype: int64\n",
            "Value counts for month:\n",
            " month\n",
            "may    13769\n",
            "jul     7174\n",
            "aug     6178\n",
            "jun     5318\n",
            "nov     4101\n",
            "apr     2632\n",
            "oct      718\n",
            "sep      570\n",
            "mar      546\n",
            "dec      182\n",
            "Name: count, dtype: int64\n",
            "Value counts for day_of_week:\n",
            " day_of_week\n",
            "thu    8623\n",
            "mon    8514\n",
            "wed    8134\n",
            "tue    8090\n",
            "fri    7827\n",
            "Name: count, dtype: int64\n",
            "Value counts for poutcome:\n",
            " poutcome\n",
            "nonexistent    35563\n",
            "failure         4252\n",
            "success         1373\n",
            "Name: count, dtype: int64\n"
          ]
        }
      ]
    },
    {
      "cell_type": "code",
      "source": [
        "for column in dataset.columns:\n",
        "    print(column,dataset[column].nunique())"
      ],
      "metadata": {
        "colab": {
          "base_uri": "https://localhost:8080/"
        },
        "id": "ZEjn92uqG9em",
        "outputId": "38896287-01ca-4870-fe4d-4d5f63b364ff"
      },
      "execution_count": 16,
      "outputs": [
        {
          "output_type": "stream",
          "name": "stdout",
          "text": [
            "age 78\n",
            "job 12\n",
            "marital 4\n",
            "education 8\n",
            "default 3\n",
            "housing 3\n",
            "loan 3\n",
            "contact 2\n",
            "month 10\n",
            "day_of_week 5\n",
            "duration 1544\n",
            "campaign 42\n",
            "pdays 27\n",
            "previous 8\n",
            "poutcome 3\n",
            "emp.var.rate 10\n",
            "cons.price.idx 26\n",
            "cons.conf.idx 26\n",
            "euribor3m 316\n",
            "nr.employed 11\n",
            "y 2\n"
          ]
        }
      ]
    },
    {
      "cell_type": "code",
      "source": [
        "dataset.isnull().sum()"
      ],
      "metadata": {
        "colab": {
          "base_uri": "https://localhost:8080/",
          "height": 742
        },
        "id": "o5lG1NZPfx7c",
        "outputId": "022a73cd-c5aa-4c5b-c40c-9bbe4325bca1"
      },
      "execution_count": 17,
      "outputs": [
        {
          "output_type": "execute_result",
          "data": {
            "text/plain": [
              "age               0\n",
              "job               0\n",
              "marital           0\n",
              "education         0\n",
              "default           0\n",
              "housing           0\n",
              "loan              0\n",
              "contact           0\n",
              "month             0\n",
              "day_of_week       0\n",
              "duration          0\n",
              "campaign          0\n",
              "pdays             0\n",
              "previous          0\n",
              "poutcome          0\n",
              "emp.var.rate      0\n",
              "cons.price.idx    0\n",
              "cons.conf.idx     0\n",
              "euribor3m         0\n",
              "nr.employed       0\n",
              "y                 0\n",
              "dtype: int64"
            ],
            "text/html": [
              "<div>\n",
              "<style scoped>\n",
              "    .dataframe tbody tr th:only-of-type {\n",
              "        vertical-align: middle;\n",
              "    }\n",
              "\n",
              "    .dataframe tbody tr th {\n",
              "        vertical-align: top;\n",
              "    }\n",
              "\n",
              "    .dataframe thead th {\n",
              "        text-align: right;\n",
              "    }\n",
              "</style>\n",
              "<table border=\"1\" class=\"dataframe\">\n",
              "  <thead>\n",
              "    <tr style=\"text-align: right;\">\n",
              "      <th></th>\n",
              "      <th>0</th>\n",
              "    </tr>\n",
              "  </thead>\n",
              "  <tbody>\n",
              "    <tr>\n",
              "      <th>age</th>\n",
              "      <td>0</td>\n",
              "    </tr>\n",
              "    <tr>\n",
              "      <th>job</th>\n",
              "      <td>0</td>\n",
              "    </tr>\n",
              "    <tr>\n",
              "      <th>marital</th>\n",
              "      <td>0</td>\n",
              "    </tr>\n",
              "    <tr>\n",
              "      <th>education</th>\n",
              "      <td>0</td>\n",
              "    </tr>\n",
              "    <tr>\n",
              "      <th>default</th>\n",
              "      <td>0</td>\n",
              "    </tr>\n",
              "    <tr>\n",
              "      <th>housing</th>\n",
              "      <td>0</td>\n",
              "    </tr>\n",
              "    <tr>\n",
              "      <th>loan</th>\n",
              "      <td>0</td>\n",
              "    </tr>\n",
              "    <tr>\n",
              "      <th>contact</th>\n",
              "      <td>0</td>\n",
              "    </tr>\n",
              "    <tr>\n",
              "      <th>month</th>\n",
              "      <td>0</td>\n",
              "    </tr>\n",
              "    <tr>\n",
              "      <th>day_of_week</th>\n",
              "      <td>0</td>\n",
              "    </tr>\n",
              "    <tr>\n",
              "      <th>duration</th>\n",
              "      <td>0</td>\n",
              "    </tr>\n",
              "    <tr>\n",
              "      <th>campaign</th>\n",
              "      <td>0</td>\n",
              "    </tr>\n",
              "    <tr>\n",
              "      <th>pdays</th>\n",
              "      <td>0</td>\n",
              "    </tr>\n",
              "    <tr>\n",
              "      <th>previous</th>\n",
              "      <td>0</td>\n",
              "    </tr>\n",
              "    <tr>\n",
              "      <th>poutcome</th>\n",
              "      <td>0</td>\n",
              "    </tr>\n",
              "    <tr>\n",
              "      <th>emp.var.rate</th>\n",
              "      <td>0</td>\n",
              "    </tr>\n",
              "    <tr>\n",
              "      <th>cons.price.idx</th>\n",
              "      <td>0</td>\n",
              "    </tr>\n",
              "    <tr>\n",
              "      <th>cons.conf.idx</th>\n",
              "      <td>0</td>\n",
              "    </tr>\n",
              "    <tr>\n",
              "      <th>euribor3m</th>\n",
              "      <td>0</td>\n",
              "    </tr>\n",
              "    <tr>\n",
              "      <th>nr.employed</th>\n",
              "      <td>0</td>\n",
              "    </tr>\n",
              "    <tr>\n",
              "      <th>y</th>\n",
              "      <td>0</td>\n",
              "    </tr>\n",
              "  </tbody>\n",
              "</table>\n",
              "</div><br><label><b>dtype:</b> int64</label>"
            ]
          },
          "metadata": {},
          "execution_count": 17
        }
      ]
    },
    {
      "cell_type": "code",
      "source": [
        "unknown_counts = dataset.isin(['unknown']).sum()\n",
        "\n",
        "print(unknown_counts)"
      ],
      "metadata": {
        "colab": {
          "base_uri": "https://localhost:8080/"
        },
        "id": "kwlGMHF_kmBT",
        "outputId": "50a0d78d-aecf-4d23-8e31-fe84e978a53a"
      },
      "execution_count": 18,
      "outputs": [
        {
          "output_type": "stream",
          "name": "stdout",
          "text": [
            "age                  0\n",
            "job                330\n",
            "marital             80\n",
            "education         1731\n",
            "default           8597\n",
            "housing            990\n",
            "loan               990\n",
            "contact              0\n",
            "month                0\n",
            "day_of_week          0\n",
            "duration             0\n",
            "campaign             0\n",
            "pdays                0\n",
            "previous             0\n",
            "poutcome             0\n",
            "emp.var.rate         0\n",
            "cons.price.idx       0\n",
            "cons.conf.idx        0\n",
            "euribor3m            0\n",
            "nr.employed          0\n",
            "y                    0\n",
            "dtype: int64\n"
          ]
        }
      ]
    },
    {
      "cell_type": "code",
      "source": [
        "unknown_counts[unknown_counts > 0].plot(kind='bar', figsize=(10, 6), color='skyblue')\n",
        "plt.title(\"Count of 'unknown' Values in Categorical Columns\")\n",
        "plt.xlabel(\"Columns\")\n",
        "plt.ylabel(\"Count\")\n",
        "plt.show()"
      ],
      "metadata": {
        "colab": {
          "base_uri": "https://localhost:8080/",
          "height": 619
        },
        "id": "ZogFU43QknaJ",
        "outputId": "77afc115-ea6a-4a95-9050-793b20099c6e"
      },
      "execution_count": 19,
      "outputs": [
        {
          "output_type": "display_data",
          "data": {
            "text/plain": [
              "<Figure size 1000x600 with 1 Axes>"
            ],
            "image/png": "[encoded data removed]"
          },
          "metadata": {}
        }
      ]
    },
    {
      "cell_type": "code",
      "source": [
        "unknown_percentages = (dataset.isin(['unknown']).sum() / len(dataset)) * 100\n",
        "\n",
        "print(unknown_percentages)"
      ],
      "metadata": {
        "colab": {
          "base_uri": "https://localhost:8080/"
        },
        "id": "BJ8Vta_K7xiO",
        "outputId": "b32150b7-c9be-4fd0-f567-3419fc39f995"
      },
      "execution_count": 20,
      "outputs": [
        {
          "output_type": "stream",
          "name": "stdout",
          "text": [
            "age                0.000000\n",
            "job                0.801204\n",
            "marital            0.194231\n",
            "education          4.202680\n",
            "default           20.872584\n",
            "housing            2.403613\n",
            "loan               2.403613\n",
            "contact            0.000000\n",
            "month              0.000000\n",
            "day_of_week        0.000000\n",
            "duration           0.000000\n",
            "campaign           0.000000\n",
            "pdays              0.000000\n",
            "previous           0.000000\n",
            "poutcome           0.000000\n",
            "emp.var.rate       0.000000\n",
            "cons.price.idx     0.000000\n",
            "cons.conf.idx      0.000000\n",
            "euribor3m          0.000000\n",
            "nr.employed        0.000000\n",
            "y                  0.000000\n",
            "dtype: float64\n"
          ]
        }
      ]
    },
    {
      "cell_type": "markdown",
      "source": [
        "There are several unknown values in the dataset, which are labeled as \"unknown\" for missing values, as mentioned in the README file. I identified these values and calculated the percentage of rows they represent."
      ],
      "metadata": {
        "id": "V3iHpG8Z_ba4"
      }
    },
    {
      "cell_type": "code",
      "source": [
        "# Replace 'unknown' with 'other' in 'job' and 'education'\n",
        "dataset['job'].replace('unknown', 'other', inplace=True)\n",
        "dataset['education'].replace('unknown', 'other', inplace=True)"
      ],
      "metadata": {
        "colab": {
          "base_uri": "https://localhost:8080/"
        },
        "id": "6Kv2XwZNu1Cv",
        "outputId": "55791027-2cfc-40c9-be24-c690e84f29e1"
      },
      "execution_count": 22,
      "outputs": [
        {
          "output_type": "stream",
          "name": "stderr",
          "text": [
            "<ipython-input-22-74f2e79aea84>:2: FutureWarning: A value is trying to be set on a copy of a DataFrame or Series through chained assignment using an inplace method.\n",
            "The behavior will change in pandas 3.0. This inplace method will never work because the intermediate object on which we are setting values always behaves as a copy.\n",
            "\n",
            "For example, when doing 'df[col].method(value, inplace=True)', try using 'df.method({col: value}, inplace=True)' or df[col] = df[col].method(value) instead, to perform the operation inplace on the original object.\n",
            "\n",
            "\n",
            "  dataset['job'].replace('unknown', 'other', inplace=True)\n",
            "<ipython-input-22-74f2e79aea84>:3: FutureWarning: A value is trying to be set on a copy of a DataFrame or Series through chained assignment using an inplace method.\n",
            "The behavior will change in pandas 3.0. This inplace method will never work because the intermediate object on which we are setting values always behaves as a copy.\n",
            "\n",
            "For example, when doing 'df[col].method(value, inplace=True)', try using 'df.method({col: value}, inplace=True)' or df[col] = df[col].method(value) instead, to perform the operation inplace on the original object.\n",
            "\n",
            "\n",
            "  dataset['education'].replace('unknown', 'other', inplace=True)\n"
          ]
        }
      ]
    },
    {
      "cell_type": "markdown",
      "source": [
        "I categorized the \"unknown\" values in the job and education features under a separate \"Other\" category. This decision was based on the assumption that these features cannot remain unknown, nor can a mode be defined for them. Therefore, I replaced \"unknown\" with the \"Other\" label."
      ],
      "metadata": {
        "id": "Qy3vP8XrAFmd"
      }
    },
    {
      "cell_type": "code",
      "source": [
        "# Replace 'unknown' with mode for 'marital', 'housing', and 'loan'\n",
        "for col in ['marital', 'housing', 'loan']:\n",
        "    mode_value = dataset[col].mode()[0]\n",
        "    dataset[col].replace('unknown', mode_value, inplace=True)\n"
      ],
      "metadata": {
        "colab": {
          "base_uri": "https://localhost:8080/"
        },
        "id": "dTUm2G-oLBp5",
        "outputId": "59e4f64c-a6e4-4af5-ea09-72d45f0ba739"
      },
      "execution_count": 23,
      "outputs": [
        {
          "output_type": "stream",
          "name": "stderr",
          "text": [
            "<ipython-input-23-5790ebb37a2d>:4: FutureWarning: A value is trying to be set on a copy of a DataFrame or Series through chained assignment using an inplace method.\n",
            "The behavior will change in pandas 3.0. This inplace method will never work because the intermediate object on which we are setting values always behaves as a copy.\n",
            "\n",
            "For example, when doing 'df[col].method(value, inplace=True)', try using 'df.method({col: value}, inplace=True)' or df[col] = df[col].method(value) instead, to perform the operation inplace on the original object.\n",
            "\n",
            "\n",
            "  dataset[col].replace('unknown', mode_value, inplace=True)\n"
          ]
        }
      ]
    },
    {
      "cell_type": "markdown",
      "source": [
        "I used the mode to handle the unknown values in the marital, housing, and loan features. This decision was made because it is not possible to predict the actual values for the unknowns. Additionally, the percentage of unknown values for each feature is small, making the mode a suitable choice for these three features.\n"
      ],
      "metadata": {
        "id": "iTp5q1kWA9J4"
      }
    },
    {
      "cell_type": "code",
      "source": [
        "dataset.drop('default', axis=1, inplace=True)\n",
        "dataset.drop('duration', axis=1, inplace=True)"
      ],
      "metadata": {
        "id": "UcdNFHJOLDse"
      },
      "execution_count": 24,
      "outputs": []
    },
    {
      "cell_type": "markdown",
      "source": [
        "The default column contains a high percentage of unknown values and has minimal impact on the target variable, so I decided to drop this feature. Additionally, I dropped the duration feature as it was mentioned as irrelevant in the README file."
      ],
      "metadata": {
        "id": "PlyR1Xn-Btdc"
      }
    },
    {
      "cell_type": "code",
      "source": [
        "dataset.head(10)"
      ],
      "metadata": {
        "colab": {
          "base_uri": "https://localhost:8080/",
          "height": 383
        },
        "id": "TcdhbmwJvope",
        "outputId": "90e3e639-f841-48f6-d7b2-81b0ca5be3cd"
      },
      "execution_count": 25,
      "outputs": [
        {
          "output_type": "execute_result",
          "data": {
            "text/plain": [
              "   age          job  marital            education housing loan    contact  \\\n",
              "0   56    housemaid  married             basic.4y      no   no  telephone   \n",
              "1   57     services  married          high.school      no   no  telephone   \n",
              "2   37     services  married          high.school     yes   no  telephone   \n",
              "3   40       admin.  married             basic.6y      no   no  telephone   \n",
              "4   56     services  married          high.school      no  yes  telephone   \n",
              "5   45     services  married             basic.9y      no   no  telephone   \n",
              "6   59       admin.  married  professional.course      no   no  telephone   \n",
              "7   41  blue-collar  married                other      no   no  telephone   \n",
              "8   24   technician   single  professional.course     yes   no  telephone   \n",
              "9   25     services   single          high.school     yes   no  telephone   \n",
              "\n",
              "  month day_of_week  campaign  pdays  previous     poutcome  emp.var.rate  \\\n",
              "0   may         mon         1    999         0  nonexistent           1.1   \n",
              "1   may         mon         1    999         0  nonexistent           1.1   \n",
              "2   may         mon         1    999         0  nonexistent           1.1   \n",
              "3   may         mon         1    999         0  nonexistent           1.1   \n",
              "4   may         mon         1    999         0  nonexistent           1.1   \n",
              "5   may         mon         1    999         0  nonexistent           1.1   \n",
              "6   may         mon         1    999         0  nonexistent           1.1   \n",
              "7   may         mon         1    999         0  nonexistent           1.1   \n",
              "8   may         mon         1    999         0  nonexistent           1.1   \n",
              "9   may         mon         1    999         0  nonexistent           1.1   \n",
              "\n",
              "   cons.price.idx  cons.conf.idx  euribor3m  nr.employed   y  \n",
              "0          93.994          -36.4      4.857       5191.0  no  \n",
              "1          93.994          -36.4      4.857       5191.0  no  \n",
              "2          93.994          -36.4      4.857       5191.0  no  \n",
              "3          93.994          -36.4      4.857       5191.0  no  \n",
              "4          93.994          -36.4      4.857       5191.0  no  \n",
              "5          93.994          -36.4      4.857       5191.0  no  \n",
              "6          93.994          -36.4      4.857       5191.0  no  \n",
              "7          93.994          -36.4      4.857       5191.0  no  \n",
              "8          93.994          -36.4      4.857       5191.0  no  \n",
              "9          93.994          -36.4      4.857       5191.0  no  "
            ],
            "text/html": [
              "\n",
              "  <div id=\"df-035dfbf0-f101-4eab-9851-39c68d785fb0\" class=\"colab-df-container\">\n",
              "    <div>\n",
              "<style scoped>\n",
              "    .dataframe tbody tr th:only-of-type {\n",
              "        vertical-align: middle;\n",
              "    }\n",
              "\n",
              "    .dataframe tbody tr th {\n",
              "        vertical-align: top;\n",
              "    }\n",
              "\n",
              "    .dataframe thead th {\n",
              "        text-align: right;\n",
              "    }\n",
              "</style>\n",
              "<table border=\"1\" class=\"dataframe\">\n",
              "  <thead>\n",
              "    <tr style=\"text-align: right;\">\n",
              "      <th></th>\n",
              "      <th>age</th>\n",
              "      <th>job</th>\n",
              "      <th>marital</th>\n",
              "      <th>education</th>\n",
              "      <th>housing</th>\n",
              "      <th>loan</th>\n",
              "      <th>contact</th>\n",
              "      <th>month</th>\n",
              "      <th>day_of_week</th>\n",
              "      <th>campaign</th>\n",
              "      <th>pdays</th>\n",
              "      <th>previous</th>\n",
              "      <th>poutcome</th>\n",
              "      <th>emp.var.rate</th>\n",
              "      <th>cons.price.idx</th>\n",
              "      <th>cons.conf.idx</th>\n",
              "      <th>euribor3m</th>\n",
              "      <th>nr.employed</th>\n",
              "      <th>y</th>\n",
              "    </tr>\n",
              "  </thead>\n",
              "  <tbody>\n",
              "    <tr>\n",
              "      <th>0</th>\n",
              "      <td>56</td>\n",
              "      <td>housemaid</td>\n",
              "      <td>married</td>\n",
              "      <td>basic.4y</td>\n",
              "      <td>no</td>\n",
              "      <td>no</td>\n",
              "      <td>telephone</td>\n",
              "      <td>may</td>\n",
              "      <td>mon</td>\n",
              "      <td>1</td>\n",
              "      <td>999</td>\n",
              "      <td>0</td>\n",
              "      <td>nonexistent</td>\n",
              "      <td>1.1</td>\n",
              "      <td>93.994</td>\n",
              "      <td>-36.4</td>\n",
              "      <td>4.857</td>\n",
              "      <td>5191.0</td>\n",
              "      <td>no</td>\n",
              "    </tr>\n",
              "    <tr>\n",
              "      <th>1</th>\n",
              "      <td>57</td>\n",
              "      <td>services</td>\n",
              "      <td>married</td>\n",
              "      <td>high.school</td>\n",
              "      <td>no</td>\n",
              "      <td>no</td>\n",
              "      <td>telephone</td>\n",
              "      <td>may</td>\n",
              "      <td>mon</td>\n",
              "      <td>1</td>\n",
              "      <td>999</td>\n",
              "      <td>0</td>\n",
              "      <td>nonexistent</td>\n",
              "      <td>1.1</td>\n",
              "      <td>93.994</td>\n",
              "      <td>-36.4</td>\n",
              "      <td>4.857</td>\n",
              "      <td>5191.0</td>\n",
              "      <td>no</td>\n",
              "    </tr>\n",
              "    <tr>\n",
              "      <th>2</th>\n",
              "      <td>37</td>\n",
              "      <td>services</td>\n",
              "      <td>married</td>\n",
              "      <td>high.school</td>\n",
              "      <td>yes</td>\n",
              "      <td>no</td>\n",
              "      <td>telephone</td>\n",
              "      <td>may</td>\n",
              "      <td>mon</td>\n",
              "      <td>1</td>\n",
              "      <td>999</td>\n",
              "      <td>0</td>\n",
              "      <td>nonexistent</td>\n",
              "      <td>1.1</td>\n",
              "      <td>93.994</td>\n",
              "      <td>-36.4</td>\n",
              "      <td>4.857</td>\n",
              "      <td>5191.0</td>\n",
              "      <td>no</td>\n",
              "    </tr>\n",
              "    <tr>\n",
              "      <th>3</th>\n",
              "      <td>40</td>\n",
              "      <td>admin.</td>\n",
              "      <td>married</td>\n",
              "      <td>basic.6y</td>\n",
              "      <td>no</td>\n",
              "      <td>no</td>\n",
              "      <td>telephone</td>\n",
              "      <td>may</td>\n",
              "      <td>mon</td>\n",
              "      <td>1</td>\n",
              "      <td>999</td>\n",
              "      <td>0</td>\n",
              "      <td>nonexistent</td>\n",
              "      <td>1.1</td>\n",
              "      <td>93.994</td>\n",
              "      <td>-36.4</td>\n",
              "      <td>4.857</td>\n",
              "      <td>5191.0</td>\n",
              "      <td>no</td>\n",
              "    </tr>\n",
              "    <tr>\n",
              "      <th>4</th>\n",
              "      <td>56</td>\n",
              "      <td>services</td>\n",
              "      <td>married</td>\n",
              "      <td>high.school</td>\n",
              "      <td>no</td>\n",
              "      <td>yes</td>\n",
              "      <td>telephone</td>\n",
              "      <td>may</td>\n",
              "      <td>mon</td>\n",
              "      <td>1</td>\n",
              "      <td>999</td>\n",
              "      <td>0</td>\n",
              "      <td>nonexistent</td>\n",
              "      <td>1.1</td>\n",
              "      <td>93.994</td>\n",
              "      <td>-36.4</td>\n",
              "      <td>4.857</td>\n",
              "      <td>5191.0</td>\n",
              "      <td>no</td>\n",
              "    </tr>\n",
              "    <tr>\n",
              "      <th>5</th>\n",
              "      <td>45</td>\n",
              "      <td>services</td>\n",
              "      <td>married</td>\n",
              "      <td>basic.9y</td>\n",
              "      <td>no</td>\n",
              "      <td>no</td>\n",
              "      <td>telephone</td>\n",
              "      <td>may</td>\n",
              "      <td>mon</td>\n",
              "      <td>1</td>\n",
              "      <td>999</td>\n",
              "      <td>0</td>\n",
              "      <td>nonexistent</td>\n",
              "      <td>1.1</td>\n",
              "      <td>93.994</td>\n",
              "      <td>-36.4</td>\n",
              "      <td>4.857</td>\n",
              "      <td>5191.0</td>\n",
              "      <td>no</td>\n",
              "    </tr>\n",
              "    <tr>\n",
              "      <th>6</th>\n",
              "      <td>59</td>\n",
              "      <td>admin.</td>\n",
              "      <td>married</td>\n",
              "      <td>professional.course</td>\n",
              "      <td>no</td>\n",
              "      <td>no</td>\n",
              "      <td>telephone</td>\n",
              "      <td>may</td>\n",
              "      <td>mon</td>\n",
              "      <td>1</td>\n",
              "      <td>999</td>\n",
              "      <td>0</td>\n",
              "      <td>nonexistent</td>\n",
              "      <td>1.1</td>\n",
              "      <td>93.994</td>\n",
              "      <td>-36.4</td>\n",
              "      <td>4.857</td>\n",
              "      <td>5191.0</td>\n",
              "      <td>no</td>\n",
              "    </tr>\n",
              "    <tr>\n",
              "      <th>7</th>\n",
              "      <td>41</td>\n",
              "      <td>blue-collar</td>\n",
              "      <td>married</td>\n",
              "      <td>other</td>\n",
              "      <td>no</td>\n",
              "      <td>no</td>\n",
              "      <td>telephone</td>\n",
              "      <td>may</td>\n",
              "      <td>mon</td>\n",
              "      <td>1</td>\n",
              "      <td>999</td>\n",
              "      <td>0</td>\n",
              "      <td>nonexistent</td>\n",
              "      <td>1.1</td>\n",
              "      <td>93.994</td>\n",
              "      <td>-36.4</td>\n",
              "      <td>4.857</td>\n",
              "      <td>5191.0</td>\n",
              "      <td>no</td>\n",
              "    </tr>\n",
              "    <tr>\n",
              "      <th>8</th>\n",
              "      <td>24</td>\n",
              "      <td>technician</td>\n",
              "      <td>single</td>\n",
              "      <td>professional.course</td>\n",
              "      <td>yes</td>\n",
              "      <td>no</td>\n",
              "      <td>telephone</td>\n",
              "      <td>may</td>\n",
              "      <td>mon</td>\n",
              "      <td>1</td>\n",
              "      <td>999</td>\n",
              "      <td>0</td>\n",
              "      <td>nonexistent</td>\n",
              "      <td>1.1</td>\n",
              "      <td>93.994</td>\n",
              "      <td>-36.4</td>\n",
              "      <td>4.857</td>\n",
              "      <td>5191.0</td>\n",
              "      <td>no</td>\n",
              "    </tr>\n",
              "    <tr>\n",
              "      <th>9</th>\n",
              "      <td>25</td>\n",
              "      <td>services</td>\n",
              "      <td>single</td>\n",
              "      <td>high.school</td>\n",
              "      <td>yes</td>\n",
              "      <td>no</td>\n",
              "      <td>telephone</td>\n",
              "      <td>may</td>\n",
              "      <td>mon</td>\n",
              "      <td>1</td>\n",
              "      <td>999</td>\n",
              "      <td>0</td>\n",
              "      <td>nonexistent</td>\n",
              "      <td>1.1</td>\n",
              "      <td>93.994</td>\n",
              "      <td>-36.4</td>\n",
              "      <td>4.857</td>\n",
              "      <td>5191.0</td>\n",
              "      <td>no</td>\n",
              "    </tr>\n",
              "  </tbody>\n",
              "</table>\n",
              "</div>\n",
              "    <div class=\"colab-df-buttons\">\n",
              "\n",
              "  <div class=\"colab-df-container\">\n",
              "    <button class=\"colab-df-convert\" onclick=\"convertToInteractive('df-035dfbf0-f101-4eab-9851-39c68d785fb0')\"\n",
              "            title=\"Convert this dataframe to an interactive table.\"\n",
              "            style=\"display:none;\">\n",
              "\n",
              "  <svg xmlns=\"http://www.w3.org/2000/svg\" height=\"24px\" viewBox=\"0 -960 960 960\">\n",
              "    <path d=\"M120-120v-720h720v720H120Zm60-500h600v-160H180v160Zm220 220h160v-160H400v160Zm0 220h160v-160H400v160ZM180-400h160v-160H180v160Zm440 0h160v-160H620v160ZM180-180h160v-160H180v160Zm440 0h160v-160H620v160Z\"/>\n",
              "  </svg>\n",
              "    </button>\n",
              "\n",
              "  <style>\n",
              "    .colab-df-container {\n",
              "      display:flex;\n",
              "      gap: 12px;\n",
              "    }\n",
              "\n",
              "    .colab-df-convert {\n",
              "      background-color: #E8F0FE;\n",
              "      border: none;\n",
              "      border-radius: 50%;\n",
              "      cursor: pointer;\n",
              "      display: none;\n",
              "      fill: #1967D2;\n",
              "      height: 32px;\n",
              "      padding: 0 0 0 0;\n",
              "      width: 32px;\n",
              "    }\n",
              "\n",
              "    .colab-df-convert:hover {\n",
              "      background-color: #E2EBFA;\n",
              "      box-shadow: 0px 1px 2px rgba(60, 64, 67, 0.3), 0px 1px 3px 1px rgba(60, 64, 67, 0.15);\n",
              "      fill: #174EA6;\n",
              "    }\n",
              "\n",
              "    .colab-df-buttons div {\n",
              "      margin-bottom: 4px;\n",
              "    }\n",
              "\n",
              "    [theme=dark] .colab-df-convert {\n",
              "      background-color: #3B4455;\n",
              "      fill: #D2E3FC;\n",
              "    }\n",
              "\n",
              "    [theme=dark] .colab-df-convert:hover {\n",
              "      background-color: #434B5C;\n",
              "      box-shadow: 0px 1px 3px 1px rgba(0, 0, 0, 0.15);\n",
              "      filter: drop-shadow(0px 1px 2px rgba(0, 0, 0, 0.3));\n",
              "      fill: #FFFFFF;\n",
              "    }\n",
              "  </style>\n",
              "\n",
              "    <script>\n",
              "      const buttonEl =\n",
              "        document.querySelector('#df-035dfbf0-f101-4eab-9851-39c68d785fb0 button.colab-df-convert');\n",
              "      buttonEl.style.display =\n",
              "        google.colab.kernel.accessAllowed ? 'block' : 'none';\n",
              "\n",
              "      async function convertToInteractive(key) {\n",
              "        const element = document.querySelector('#df-035dfbf0-f101-4eab-9851-39c68d785fb0');\n",
              "        const dataTable =\n",
              "          await google.colab.kernel.invokeFunction('convertToInteractive',\n",
              "                                                    [key], {});\n",
              "        if (!dataTable) return;\n",
              "\n",
              "        const docLinkHtml = 'Like what you see? Visit the ' +\n",
              "          '<a target=\"_blank\" href=https://colab.research.google.com/notebooks/data_table.ipynb>data table notebook</a>'\n",
              "          + ' to learn more about interactive tables.';\n",
              "        element.innerHTML = '';\n",
              "        dataTable['output_type'] = 'display_data';\n",
              "        await google.colab.output.renderOutput(dataTable, element);\n",
              "        const docLink = document.createElement('div');\n",
              "        docLink.innerHTML = docLinkHtml;\n",
              "        element.appendChild(docLink);\n",
              "      }\n",
              "    </script>\n",
              "  </div>\n",
              "\n",
              "\n",
              "<div id=\"df-cad8cfbc-a5ff-4e4e-8938-d23d54b68805\">\n",
              "  <button class=\"colab-df-quickchart\" onclick=\"quickchart('df-cad8cfbc-a5ff-4e4e-8938-d23d54b68805')\"\n",
              "            title=\"Suggest charts\"\n",
              "            style=\"display:none;\">\n",
              "\n",
              "<svg xmlns=\"http://www.w3.org/2000/svg\" height=\"24px\"viewBox=\"0 0 24 24\"\n",
              "     width=\"24px\">\n",
              "    <g>\n",
              "        <path d=\"M19 3H5c-1.1 0-2 .9-2 2v14c0 1.1.9 2 2 2h14c1.1 0 2-.9 2-2V5c0-1.1-.9-2-2-2zM9 17H7v-7h2v7zm4 0h-2V7h2v10zm4 0h-2v-4h2v4z\"/>\n",
              "    </g>\n",
              "</svg>\n",
              "  </button>\n",
              "\n",
              "<style>\n",
              "  .colab-df-quickchart {\n",
              "      --bg-color: #E8F0FE;\n",
              "      --fill-color: #1967D2;\n",
              "      --hover-bg-color: #E2EBFA;\n",
              "      --hover-fill-color: #174EA6;\n",
              "      --disabled-fill-color: #AAA;\n",
              "      --disabled-bg-color: #DDD;\n",
              "  }\n",
              "\n",
              "  [theme=dark] .colab-df-quickchart {\n",
              "      --bg-color: #3B4455;\n",
              "      --fill-color: #D2E3FC;\n",
              "      --hover-bg-color: #434B5C;\n",
              "      --hover-fill-color: #FFFFFF;\n",
              "      --disabled-bg-color: #3B4455;\n",
              "      --disabled-fill-color: #666;\n",
              "  }\n",
              "\n",
              "  .colab-df-quickchart {\n",
              "    background-color: var(--bg-color);\n",
              "    border: none;\n",
              "    border-radius: 50%;\n",
              "    cursor: pointer;\n",
              "    display: none;\n",
              "    fill: var(--fill-color);\n",
              "    height: 32px;\n",
              "    padding: 0;\n",
              "    width: 32px;\n",
              "  }\n",
              "\n",
              "  .colab-df-quickchart:hover {\n",
              "    background-color: var(--hover-bg-color);\n",
              "    box-shadow: 0 1px 2px rgba(60, 64, 67, 0.3), 0 1px 3px 1px rgba(60, 64, 67, 0.15);\n",
              "    fill: var(--button-hover-fill-color);\n",
              "  }\n",
              "\n",
              "  .colab-df-quickchart-complete:disabled,\n",
              "  .colab-df-quickchart-complete:disabled:hover {\n",
              "    background-color: var(--disabled-bg-color);\n",
              "    fill: var(--disabled-fill-color);\n",
              "    box-shadow: none;\n",
              "  }\n",
              "\n",
              "  .colab-df-spinner {\n",
              "    border: 2px solid var(--fill-color);\n",
              "    border-color: transparent;\n",
              "    border-bottom-color: var(--fill-color);\n",
              "    animation:\n",
              "      spin 1s steps(1) infinite;\n",
              "  }\n",
              "\n",
              "  @keyframes spin {\n",
              "    0% {\n",
              "      border-color: transparent;\n",
              "      border-bottom-color: var(--fill-color);\n",
              "      border-left-color: var(--fill-color);\n",
              "    }\n",
              "    20% {\n",
              "      border-color: transparent;\n",
              "      border-left-color: var(--fill-color);\n",
              "      border-top-color: var(--fill-color);\n",
              "    }\n",
              "    30% {\n",
              "      border-color: transparent;\n",
              "      border-left-color: var(--fill-color);\n",
              "      border-top-color: var(--fill-color);\n",
              "      border-right-color: var(--fill-color);\n",
              "    }\n",
              "    40% {\n",
              "      border-color: transparent;\n",
              "      border-right-color: var(--fill-color);\n",
              "      border-top-color: var(--fill-color);\n",
              "    }\n",
              "    60% {\n",
              "      border-color: transparent;\n",
              "      border-right-color: var(--fill-color);\n",
              "    }\n",
              "    80% {\n",
              "      border-color: transparent;\n",
              "      border-right-color: var(--fill-color);\n",
              "      border-bottom-color: var(--fill-color);\n",
              "    }\n",
              "    90% {\n",
              "      border-color: transparent;\n",
              "      border-bottom-color: var(--fill-color);\n",
              "    }\n",
              "  }\n",
              "</style>\n",
              "\n",
              "  <script>\n",
              "    async function quickchart(key) {\n",
              "      const quickchartButtonEl =\n",
              "        document.querySelector('#' + key + ' button');\n",
              "      quickchartButtonEl.disabled = true;  // To prevent multiple clicks.\n",
              "      quickchartButtonEl.classList.add('colab-df-spinner');\n",
              "      try {\n",
              "        const charts = await google.colab.kernel.invokeFunction(\n",
              "            'suggestCharts', [key], {});\n",
              "      } catch (error) {\n",
              "        console.error('Error during call to suggestCharts:', error);\n",
              "      }\n",
              "      quickchartButtonEl.classList.remove('colab-df-spinner');\n",
              "      quickchartButtonEl.classList.add('colab-df-quickchart-complete');\n",
              "    }\n",
              "    (() => {\n",
              "      let quickchartButtonEl =\n",
              "        document.querySelector('#df-cad8cfbc-a5ff-4e4e-8938-d23d54b68805 button');\n",
              "      quickchartButtonEl.style.display =\n",
              "        google.colab.kernel.accessAllowed ? 'block' : 'none';\n",
              "    })();\n",
              "  </script>\n",
              "</div>\n",
              "\n",
              "    </div>\n",
              "  </div>\n"
            ],
            "application/vnd.google.colaboratory.intrinsic+json": {
              "type": "dataframe",
              "variable_name": "dataset",
              "summary": "{\n  \"name\": \"dataset\",\n  \"rows\": 41188,\n  \"fields\": [\n    {\n      \"column\": \"age\",\n      \"properties\": {\n        \"dtype\": \"number\",\n        \"std\": 10,\n        \"min\": 17,\n        \"max\": 98,\n        \"num_unique_values\": 78,\n        \"samples\": [\n          36,\n          56,\n          28\n        ],\n        \"semantic_type\": \"\",\n        \"description\": \"\"\n      }\n    },\n    {\n      \"column\": \"job\",\n      \"properties\": {\n        \"dtype\": \"category\",\n        \"num_unique_values\": 12,\n        \"samples\": [\n          \"entrepreneur\",\n          \"other\",\n          \"housemaid\"\n        ],\n        \"semantic_type\": \"\",\n        \"description\": \"\"\n      }\n    },\n    {\n      \"column\": \"marital\",\n      \"properties\": {\n        \"dtype\": \"category\",\n        \"num_unique_values\": 3,\n        \"samples\": [\n          \"married\",\n          \"single\",\n          \"divorced\"\n        ],\n        \"semantic_type\": \"\",\n        \"description\": \"\"\n      }\n    },\n    {\n      \"column\": \"education\",\n      \"properties\": {\n        \"dtype\": \"category\",\n        \"num_unique_values\": 8,\n        \"samples\": [\n          \"high.school\",\n          \"other\",\n          \"basic.4y\"\n        ],\n        \"semantic_type\": \"\",\n        \"description\": \"\"\n      }\n    },\n    {\n      \"column\": \"housing\",\n      \"properties\": {\n        \"dtype\": \"category\",\n        \"num_unique_values\": 2,\n        \"samples\": [\n          \"yes\",\n          \"no\"\n        ],\n        \"semantic_type\": \"\",\n        \"description\": \"\"\n      }\n    },\n    {\n      \"column\": \"loan\",\n      \"properties\": {\n        \"dtype\": \"category\",\n        \"num_unique_values\": 2,\n        \"samples\": [\n          \"yes\",\n          \"no\"\n        ],\n        \"semantic_type\": \"\",\n        \"description\": \"\"\n      }\n    },\n    {\n      \"column\": \"contact\",\n      \"properties\": {\n        \"dtype\": \"category\",\n        \"num_unique_values\": 2,\n        \"samples\": [\n          \"cellular\",\n          \"telephone\"\n        ],\n        \"semantic_type\": \"\",\n        \"description\": \"\"\n      }\n    },\n    {\n      \"column\": \"month\",\n      \"properties\": {\n        \"dtype\": \"category\",\n        \"num_unique_values\": 10,\n        \"samples\": [\n          \"apr\",\n          \"jun\"\n        ],\n        \"semantic_type\": \"\",\n        \"description\": \"\"\n      }\n    },\n    {\n      \"column\": \"day_of_week\",\n      \"properties\": {\n        \"dtype\": \"category\",\n        \"num_unique_values\": 5,\n        \"samples\": [\n          \"tue\",\n          \"fri\"\n        ],\n        \"semantic_type\": \"\",\n        \"description\": \"\"\n      }\n    },\n    {\n      \"column\": \"campaign\",\n      \"properties\": {\n        \"dtype\": \"number\",\n        \"std\": 2,\n        \"min\": 1,\n        \"max\": 56,\n        \"num_unique_values\": 42,\n        \"samples\": [\n          35,\n          19\n        ],\n        \"semantic_type\": \"\",\n        \"description\": \"\"\n      }\n    },\n    {\n      \"column\": \"pdays\",\n      \"properties\": {\n        \"dtype\": \"number\",\n        \"std\": 186,\n        \"min\": 0,\n        \"max\": 999,\n        \"num_unique_values\": 27,\n        \"samples\": [\n          7,\n          12\n        ],\n        \"semantic_type\": \"\",\n        \"description\": \"\"\n      }\n    },\n    {\n      \"column\": \"previous\",\n      \"properties\": {\n        \"dtype\": \"number\",\n        \"std\": 0,\n        \"min\": 0,\n        \"max\": 7,\n        \"num_unique_values\": 8,\n        \"samples\": [\n          1,\n          5\n        ],\n        \"semantic_type\": \"\",\n        \"description\": \"\"\n      }\n    },\n    {\n      \"column\": \"poutcome\",\n      \"properties\": {\n        \"dtype\": \"category\",\n        \"num_unique_values\": 3,\n        \"samples\": [\n          \"nonexistent\",\n          \"failure\"\n        ],\n        \"semantic_type\": \"\",\n        \"description\": \"\"\n      }\n    },\n    {\n      \"column\": \"emp.var.rate\",\n      \"properties\": {\n        \"dtype\": \"number\",\n        \"std\": 1.5709597405172309,\n        \"min\": -3.4,\n        \"max\": 1.4,\n        \"num_unique_values\": 10,\n        \"samples\": [\n          -1.7,\n          1.4\n        ],\n        \"semantic_type\": \"\",\n        \"description\": \"\"\n      }\n    },\n    {\n      \"column\": \"cons.price.idx\",\n      \"properties\": {\n        \"dtype\": \"number\",\n        \"std\": 0.5788400489541813,\n        \"min\": 92.201,\n        \"max\": 94.767,\n        \"num_unique_values\": 26,\n        \"samples\": [\n          93.075,\n          92.713\n        ],\n        \"semantic_type\": \"\",\n        \"description\": \"\"\n      }\n    },\n    {\n      \"column\": \"cons.conf.idx\",\n      \"properties\": {\n        \"dtype\": \"number\",\n        \"std\": 4.628197856174375,\n        \"min\": -50.8,\n        \"max\": -26.9,\n        \"num_unique_values\": 26,\n        \"samples\": [\n          -47.1,\n          -33.0\n        ],\n        \"semantic_type\": \"\",\n        \"description\": \"\"\n      }\n    },\n    {\n      \"column\": \"euribor3m\",\n      \"properties\": {\n        \"dtype\": \"number\",\n        \"std\": 1.7344474048511707,\n        \"min\": 0.634,\n        \"max\": 5.045,\n        \"num_unique_values\": 316,\n        \"samples\": [\n          0.766,\n          4.76\n        ],\n        \"semantic_type\": \"\",\n        \"description\": \"\"\n      }\n    },\n    {\n      \"column\": \"nr.employed\",\n      \"properties\": {\n        \"dtype\": \"number\",\n        \"std\": 72.25152766826527,\n        \"min\": 4963.6,\n        \"max\": 5228.1,\n        \"num_unique_values\": 11,\n        \"samples\": [\n          5076.2,\n          5191.0\n        ],\n        \"semantic_type\": \"\",\n        \"description\": \"\"\n      }\n    },\n    {\n      \"column\": \"y\",\n      \"properties\": {\n        \"dtype\": \"category\",\n        \"num_unique_values\": 2,\n        \"samples\": [\n          \"yes\",\n          \"no\"\n        ],\n        \"semantic_type\": \"\",\n        \"description\": \"\"\n      }\n    }\n  ]\n}"
            }
          },
          "metadata": {},
          "execution_count": 25
        }
      ]
    },
    {
      "cell_type": "code",
      "source": [
        "unknown_counts = dataset.isin(['unknown']).sum()\n",
        "\n",
        "print(unknown_counts)"
      ],
      "metadata": {
        "colab": {
          "base_uri": "https://localhost:8080/"
        },
        "id": "qs4GSlZ3wrMm",
        "outputId": "52b03083-bc02-4726-8086-7d28040486d9"
      },
      "execution_count": 26,
      "outputs": [
        {
          "output_type": "stream",
          "name": "stdout",
          "text": [
            "age               0\n",
            "job               0\n",
            "marital           0\n",
            "education         0\n",
            "housing           0\n",
            "loan              0\n",
            "contact           0\n",
            "month             0\n",
            "day_of_week       0\n",
            "campaign          0\n",
            "pdays             0\n",
            "previous          0\n",
            "poutcome          0\n",
            "emp.var.rate      0\n",
            "cons.price.idx    0\n",
            "cons.conf.idx     0\n",
            "euribor3m         0\n",
            "nr.employed       0\n",
            "y                 0\n",
            "dtype: int64\n"
          ]
        }
      ]
    },
    {
      "cell_type": "code",
      "source": [
        "dataset.shape"
      ],
      "metadata": {
        "colab": {
          "base_uri": "https://localhost:8080/"
        },
        "id": "tzTpK36GIXaA",
        "outputId": "961bb0d7-d8c3-4ef2-a5e4-2af844003d9e"
      },
      "execution_count": 27,
      "outputs": [
        {
          "output_type": "execute_result",
          "data": {
            "text/plain": [
              "(41188, 19)"
            ]
          },
          "metadata": {},
          "execution_count": 27
        }
      ]
    },
    {
      "cell_type": "markdown",
      "source": [
        "## Handle Duplicate"
      ],
      "metadata": {
        "id": "65JhDBqrN8HS"
      }
    },
    {
      "cell_type": "code",
      "source": [
        "print(dataset.duplicated())"
      ],
      "metadata": {
        "colab": {
          "base_uri": "https://localhost:8080/"
        },
        "id": "haTquaDZfhTY",
        "outputId": "6f549e05-2965-40ce-c674-727286fad6df"
      },
      "execution_count": 28,
      "outputs": [
        {
          "output_type": "stream",
          "name": "stdout",
          "text": [
            "0        False\n",
            "1        False\n",
            "2        False\n",
            "3        False\n",
            "4        False\n",
            "         ...  \n",
            "41183    False\n",
            "41184    False\n",
            "41185    False\n",
            "41186    False\n",
            "41187    False\n",
            "Length: 41188, dtype: bool\n"
          ]
        }
      ]
    },
    {
      "cell_type": "code",
      "source": [
        "dataset.duplicated().sum()"
      ],
      "metadata": {
        "colab": {
          "base_uri": "https://localhost:8080/"
        },
        "id": "g-zdQgBwfg4s",
        "outputId": "c821df08-f4eb-4140-8ebe-94f9a82dfefa"
      },
      "execution_count": 29,
      "outputs": [
        {
          "output_type": "execute_result",
          "data": {
            "text/plain": [
              "2081"
            ]
          },
          "metadata": {},
          "execution_count": 29
        }
      ]
    },
    {
      "cell_type": "code",
      "source": [
        "duplicate_rows = dataset[dataset.duplicated()]\n",
        "print(duplicate_rows)"
      ],
      "metadata": {
        "colab": {
          "base_uri": "https://localhost:8080/"
        },
        "id": "3-KHnSc1MDBE",
        "outputId": "0f8abc92-e43e-4a1d-dc7b-a4b4e104254c"
      },
      "execution_count": 30,
      "outputs": [
        {
          "output_type": "stream",
          "name": "stdout",
          "text": [
            "       age           job   marital            education housing loan  \\\n",
            "10      41   blue-collar   married                other      no   no   \n",
            "11      25      services    single          high.school     yes   no   \n",
            "16      35   blue-collar   married             basic.6y     yes   no   \n",
            "31      59    technician   married                other     yes   no   \n",
            "104     52        admin.  divorced    university.degree      no   no   \n",
            "...    ...           ...       ...                  ...     ...  ...   \n",
            "39985   27        admin.    single          high.school      no   no   \n",
            "40401   31       student    single                other     yes   no   \n",
            "40404   41  entrepreneur   married    university.degree     yes   no   \n",
            "40806   35    technician   married  professional.course     yes   no   \n",
            "40840   32        admin.    single    university.degree     yes   no   \n",
            "\n",
            "         contact month day_of_week  campaign  pdays  previous     poutcome  \\\n",
            "10     telephone   may         mon         1    999         0  nonexistent   \n",
            "11     telephone   may         mon         1    999         0  nonexistent   \n",
            "16     telephone   may         mon         1    999         0  nonexistent   \n",
            "31     telephone   may         mon         1    999         0  nonexistent   \n",
            "104    telephone   may         mon         1    999         0  nonexistent   \n",
            "...          ...   ...         ...       ...    ...       ...          ...   \n",
            "39985   cellular   jun         tue         2    999         0  nonexistent   \n",
            "40401   cellular   aug         thu         2    999         0  nonexistent   \n",
            "40404   cellular   aug         thu         1    999         0  nonexistent   \n",
            "40806   cellular   sep         thu         1    999         2      failure   \n",
            "40840   cellular   sep         mon         4    999         0  nonexistent   \n",
            "\n",
            "       emp.var.rate  cons.price.idx  cons.conf.idx  euribor3m  nr.employed  \\\n",
            "10              1.1          93.994          -36.4      4.857       5191.0   \n",
            "11              1.1          93.994          -36.4      4.857       5191.0   \n",
            "16              1.1          93.994          -36.4      4.857       5191.0   \n",
            "31              1.1          93.994          -36.4      4.857       5191.0   \n",
            "104             1.1          93.994          -36.4      4.857       5191.0   \n",
            "...             ...             ...            ...        ...          ...   \n",
            "39985          -1.7          94.055          -39.8      0.761       4991.6   \n",
            "40401          -1.7          94.027          -38.3      0.904       4991.6   \n",
            "40404          -1.7          94.027          -38.3      0.904       4991.6   \n",
            "40806          -1.1          94.199          -37.5      0.878       4963.6   \n",
            "40840          -1.1          94.199          -37.5      0.879       4963.6   \n",
            "\n",
            "         y  \n",
            "10      no  \n",
            "11      no  \n",
            "16      no  \n",
            "31      no  \n",
            "104     no  \n",
            "...    ...  \n",
            "39985  yes  \n",
            "40401  yes  \n",
            "40404  yes  \n",
            "40806   no  \n",
            "40840   no  \n",
            "\n",
            "[2081 rows x 19 columns]\n"
          ]
        }
      ]
    },
    {
      "cell_type": "code",
      "source": [
        "dataframe = dataset.drop_duplicates()"
      ],
      "metadata": {
        "id": "AOZhWw3ZMZTk"
      },
      "execution_count": 31,
      "outputs": []
    },
    {
      "cell_type": "code",
      "source": [
        "dataset.duplicated().sum()"
      ],
      "metadata": {
        "colab": {
          "base_uri": "https://localhost:8080/"
        },
        "id": "HwHAjyEuI_B5",
        "outputId": "cb995ae8-d457-43db-a8f3-90a646f6e56e"
      },
      "execution_count": 32,
      "outputs": [
        {
          "output_type": "execute_result",
          "data": {
            "text/plain": [
              "2081"
            ]
          },
          "metadata": {},
          "execution_count": 32
        }
      ]
    },
    {
      "cell_type": "code",
      "source": [
        "dataset.shape"
      ],
      "metadata": {
        "colab": {
          "base_uri": "https://localhost:8080/"
        },
        "id": "mozhWODTNgs2",
        "outputId": "716e190c-9aaf-4a5c-f863-bcc29799db6a"
      },
      "execution_count": 35,
      "outputs": [
        {
          "output_type": "execute_result",
          "data": {
            "text/plain": [
              "(41188, 19)"
            ]
          },
          "metadata": {},
          "execution_count": 35
        }
      ]
    },
    {
      "cell_type": "markdown",
      "source": [
        "As the final step in the cleaning process, I handled duplicate values to eliminate data redundancy."
      ],
      "metadata": {
        "id": "3lFoMDK-C8Wl"
      }
    },
    {
      "cell_type": "code",
      "source": [
        "dataset.to_csv(\"/content/drive/MyDrive/MLCW/cleaned_dataset.csv\", index=False)\n",
        "print(\"Cleaned dataset saved successfully!\")"
      ],
      "metadata": {
        "colab": {
          "base_uri": "https://localhost:8080/"
        },
        "id": "qmP0PmK1P5Yv",
        "outputId": "84359118-80d8-447c-ad95-0ef846098fb4"
      },
      "execution_count": 38,
      "outputs": [
        {
          "output_type": "stream",
          "name": "stdout",
          "text": [
            "Cleaned dataset saved successfully!\n"
          ]
        }
      ]
    }
  ]
}