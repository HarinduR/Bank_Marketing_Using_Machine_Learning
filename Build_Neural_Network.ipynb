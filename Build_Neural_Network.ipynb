{
  "nbformat": 4,
  "nbformat_minor": 0,
  "metadata": {
    "colab": {
      "provenance": [],
      "toc_visible": true,
      "authorship_tag": "ABX9TyM9iQnZ4tbjB1T9w+KiaWWV",
      "include_colab_link": true
    },
    "kernelspec": {
      "name": "python3",
      "display_name": "Python 3"
    },
    "language_info": {
      "name": "python"
    }
  },
  "cells": [
    {
      "cell_type": "markdown",
      "metadata": {
        "id": "view-in-github",
        "colab_type": "text"
      },
      "source": [
        "<a href=\"https://colab.research.google.com/github/HarinduR/Bank_Marketing_Using_Machine_Learning/blob/master/Build_Neural_Network.ipynb\" target=\"_parent\"><img src=\"https://colab.research.google.com/assets/colab-badge.svg\" alt=\"Open In Colab\"/></a>"
      ]
    },
    {
      "cell_type": "markdown",
      "source": [
        "# Neural Network build"
      ],
      "metadata": {
        "id": "yYiESwOG8RcC"
      }
    },
    {
      "cell_type": "markdown",
      "source": [
        "## Build Neural Network"
      ],
      "metadata": {
        "id": "F48y2tqI8buo"
      }
    },
    {
      "cell_type": "code",
      "execution_count": 1,
      "metadata": {
        "colab": {
          "base_uri": "https://localhost:8080/"
        },
        "id": "JuZVMVMSQfpE",
        "outputId": "719cd6da-834b-4822-f85f-c7632aef83c7"
      },
      "outputs": [
        {
          "output_type": "stream",
          "name": "stdout",
          "text": [
            "Mounted at /content/drive\n"
          ]
        }
      ],
      "source": [
        "from google.colab import drive\n",
        "drive.mount('/content/drive')"
      ]
    },
    {
      "cell_type": "code",
      "source": [
        "import pandas as pd\n",
        "from sklearn.model_selection import train_test_split\n",
        "import seaborn as sns\n",
        "import matplotlib.pyplot as plt"
      ],
      "metadata": {
        "id": "ahnGX-S6QnOH"
      },
      "execution_count": 2,
      "outputs": []
    },
    {
      "cell_type": "markdown",
      "source": [
        "### Import preprocessed dataset"
      ],
      "metadata": {
        "id": "dzwlOscTuFsC"
      }
    },
    {
      "cell_type": "code",
      "source": [
        "data = pd.read_csv(\"/content/drive/MyDrive/MLCW/preprocessed.csv\")"
      ],
      "metadata": {
        "id": "62GR2yUxzGQE"
      },
      "execution_count": 3,
      "outputs": []
    },
    {
      "cell_type": "code",
      "source": [
        "data.duplicated().sum()"
      ],
      "metadata": {
        "colab": {
          "base_uri": "https://localhost:8080/"
        },
        "id": "zAtxaKtJMNnh",
        "outputId": "4a3876cc-e604-4fa0-ed02-4fbb2f6e96a6"
      },
      "execution_count": 4,
      "outputs": [
        {
          "output_type": "execute_result",
          "data": {
            "text/plain": [
              "107"
            ]
          },
          "metadata": {},
          "execution_count": 4
        }
      ]
    },
    {
      "cell_type": "code",
      "source": [
        "data = data.drop_duplicates()"
      ],
      "metadata": {
        "id": "FrQIKdgVhVxe"
      },
      "execution_count": 5,
      "outputs": []
    },
    {
      "cell_type": "code",
      "source": [
        "print(data['y'].value_counts())"
      ],
      "metadata": {
        "colab": {
          "base_uri": "https://localhost:8080/"
        },
        "id": "0rKFvOYcMQBI",
        "outputId": "0f2a0ecc-0173-4b5c-8e21-fe52c2ddf36b"
      },
      "execution_count": 6,
      "outputs": [
        {
          "output_type": "stream",
          "name": "stdout",
          "text": [
            "y\n",
            "no     34423\n",
            "yes     4577\n",
            "Name: count, dtype: int64\n"
          ]
        }
      ]
    },
    {
      "cell_type": "code",
      "source": [
        "data.shape"
      ],
      "metadata": {
        "colab": {
          "base_uri": "https://localhost:8080/"
        },
        "id": "Jctbm1WAnAeJ",
        "outputId": "facb66c3-bf8a-41df-b3de-92265b3d39a9"
      },
      "execution_count": 7,
      "outputs": [
        {
          "output_type": "execute_result",
          "data": {
            "text/plain": [
              "(39000, 47)"
            ]
          },
          "metadata": {},
          "execution_count": 7
        }
      ]
    },
    {
      "cell_type": "code",
      "source": [
        "print(data.info())"
      ],
      "metadata": {
        "colab": {
          "base_uri": "https://localhost:8080/"
        },
        "id": "VnoYhX3OkRuC",
        "outputId": "f06f622c-779d-445f-b5bb-a929aa183fd3"
      },
      "execution_count": 8,
      "outputs": [
        {
          "output_type": "stream",
          "name": "stdout",
          "text": [
            "<class 'pandas.core.frame.DataFrame'>\n",
            "Index: 39000 entries, 0 to 39106\n",
            "Data columns (total 47 columns):\n",
            " #   Column                         Non-Null Count  Dtype  \n",
            "---  ------                         --------------  -----  \n",
            " 0   age                            39000 non-null  float64\n",
            " 1   campaign                       39000 non-null  int64  \n",
            " 2   pdays                          39000 non-null  int64  \n",
            " 3   previous                       39000 non-null  int64  \n",
            " 4   cons.price.idx                 39000 non-null  float64\n",
            " 5   cons.conf.idx                  39000 non-null  float64\n",
            " 6   y                              39000 non-null  object \n",
            " 7   PC1                            39000 non-null  float64\n",
            " 8   PC2                            39000 non-null  float64\n",
            " 9   education_basic.6y             39000 non-null  bool   \n",
            " 10  education_basic.9y             39000 non-null  bool   \n",
            " 11  education_high.school          39000 non-null  bool   \n",
            " 12  education_illiterate           39000 non-null  bool   \n",
            " 13  education_other                39000 non-null  bool   \n",
            " 14  education_professional.course  39000 non-null  bool   \n",
            " 15  education_university.degree    39000 non-null  bool   \n",
            " 16  job_blue-collar                39000 non-null  bool   \n",
            " 17  job_entrepreneur               39000 non-null  bool   \n",
            " 18  job_housemaid                  39000 non-null  bool   \n",
            " 19  job_management                 39000 non-null  bool   \n",
            " 20  job_other                      39000 non-null  bool   \n",
            " 21  job_retired                    39000 non-null  bool   \n",
            " 22  job_self-employed              39000 non-null  bool   \n",
            " 23  job_services                   39000 non-null  bool   \n",
            " 24  job_student                    39000 non-null  bool   \n",
            " 25  job_technician                 39000 non-null  bool   \n",
            " 26  job_unemployed                 39000 non-null  bool   \n",
            " 27  marital_married                39000 non-null  bool   \n",
            " 28  marital_single                 39000 non-null  bool   \n",
            " 29  housing_yes                    39000 non-null  bool   \n",
            " 30  loan_yes                       39000 non-null  bool   \n",
            " 31  contact_telephone              39000 non-null  bool   \n",
            " 32  month_aug                      39000 non-null  bool   \n",
            " 33  month_dec                      39000 non-null  bool   \n",
            " 34  month_jul                      39000 non-null  bool   \n",
            " 35  month_jun                      39000 non-null  bool   \n",
            " 36  month_mar                      39000 non-null  bool   \n",
            " 37  month_may                      39000 non-null  bool   \n",
            " 38  month_nov                      39000 non-null  bool   \n",
            " 39  month_oct                      39000 non-null  bool   \n",
            " 40  month_sep                      39000 non-null  bool   \n",
            " 41  day_of_week_mon                39000 non-null  bool   \n",
            " 42  day_of_week_thu                39000 non-null  bool   \n",
            " 43  day_of_week_tue                39000 non-null  bool   \n",
            " 44  day_of_week_wed                39000 non-null  bool   \n",
            " 45  poutcome_nonexistent           39000 non-null  bool   \n",
            " 46  poutcome_success               39000 non-null  bool   \n",
            "dtypes: bool(38), float64(5), int64(3), object(1)\n",
            "memory usage: 4.4+ MB\n",
            "None\n"
          ]
        }
      ]
    },
    {
      "cell_type": "markdown",
      "source": [
        "### Split dataset"
      ],
      "metadata": {
        "id": "6r3EvyKAua5F"
      }
    },
    {
      "cell_type": "code",
      "source": [
        "X = data.drop('y', axis=1)\n",
        "y = data['y']"
      ],
      "metadata": {
        "id": "eRN20tSXze5S"
      },
      "execution_count": 9,
      "outputs": []
    },
    {
      "cell_type": "code",
      "source": [
        "X_train, X_test, y_train, y_test = train_test_split(\n",
        "    X, y, test_size=0.2, random_state=42, stratify=y\n",
        ")\n",
        "\n",
        "print(\"Training set size (X_train):\", X_train.shape)\n",
        "print(\"Test set size (X_test):\", X_test.shape)"
      ],
      "metadata": {
        "colab": {
          "base_uri": "https://localhost:8080/"
        },
        "id": "MAP1sCLczRit",
        "outputId": "025dc5c3-a400-4186-9f31-d1244985aaa0"
      },
      "execution_count": 10,
      "outputs": [
        {
          "output_type": "stream",
          "name": "stdout",
          "text": [
            "Training set size (X_train): (31200, 46)\n",
            "Test set size (X_test): (7800, 46)\n"
          ]
        }
      ]
    },
    {
      "cell_type": "code",
      "source": [
        "train_dist_balanced = y_train.value_counts(normalize=True).sort_index()\n",
        "test_dist_balanced = y_test.value_counts(normalize=True).sort_index()\n",
        "\n",
        "distribution_dataframe = pd.DataFrame({\n",
        "    'Training Set': train_dist_balanced,\n",
        "    'Test Set': test_dist_balanced\n",
        "})\n",
        "\n",
        "print(\"Target Distribution:\")\n",
        "print(distribution_dataframe)"
      ],
      "metadata": {
        "colab": {
          "base_uri": "https://localhost:8080/"
        },
        "id": "SnrwpvYezn8E",
        "outputId": "03be407d-90a9-4e16-d36c-0ce65186bcfd"
      },
      "execution_count": 11,
      "outputs": [
        {
          "output_type": "stream",
          "name": "stdout",
          "text": [
            "Target Distribution:\n",
            "     Training Set  Test Set\n",
            "y                          \n",
            "no       0.882628  0.882692\n",
            "yes      0.117372  0.117308\n"
          ]
        }
      ]
    },
    {
      "cell_type": "code",
      "source": [
        "print(\"Training Set Target Distribution:\")\n",
        "print(y_train.value_counts())\n",
        "\n",
        "print(\"\\nTest Set Target Distribution:\")\n",
        "print(y_test.value_counts())"
      ],
      "metadata": {
        "colab": {
          "base_uri": "https://localhost:8080/"
        },
        "id": "1X3vL-bKzuOy",
        "outputId": "4573a992-e493-4808-aea6-c0d51ffd8c95"
      },
      "execution_count": 12,
      "outputs": [
        {
          "output_type": "stream",
          "name": "stdout",
          "text": [
            "Training Set Target Distribution:\n",
            "y\n",
            "no     27538\n",
            "yes     3662\n",
            "Name: count, dtype: int64\n",
            "\n",
            "Test Set Target Distribution:\n",
            "y\n",
            "no     6885\n",
            "yes     915\n",
            "Name: count, dtype: int64\n"
          ]
        }
      ]
    },
    {
      "cell_type": "code",
      "source": [
        "print(\"Missing values in X_train:\", X_train.isnull().sum().sum())\n",
        "print(\"Missing values in X_test:\", X_test.isnull().sum().sum())\n",
        "\n",
        "print(\"\\nX_train shape:\", X_train.shape)\n",
        "print(\"X_test shape:\", X_test.shape)"
      ],
      "metadata": {
        "colab": {
          "base_uri": "https://localhost:8080/"
        },
        "id": "XPOc2ygrz1ps",
        "outputId": "ff255165-0100-4d75-d61b-f66b5f56c3bf"
      },
      "execution_count": 13,
      "outputs": [
        {
          "output_type": "stream",
          "name": "stdout",
          "text": [
            "Missing values in X_train: 0\n",
            "Missing values in X_test: 0\n",
            "\n",
            "X_train shape: (31200, 46)\n",
            "X_test shape: (7800, 46)\n"
          ]
        }
      ]
    },
    {
      "cell_type": "markdown",
      "source": [
        "### Apply SMOTE"
      ],
      "metadata": {
        "id": "e3lLmCK0unCZ"
      }
    },
    {
      "cell_type": "code",
      "source": [
        "from imblearn.over_sampling import SMOTE\n",
        "from imblearn.over_sampling import RandomOverSampler\n",
        "from collections import Counter"
      ],
      "metadata": {
        "id": "EOYXwouuo4yf"
      },
      "execution_count": 14,
      "outputs": []
    },
    {
      "cell_type": "code",
      "source": [
        "print(\"Before SMOTE:\", Counter(y_train))"
      ],
      "metadata": {
        "colab": {
          "base_uri": "https://localhost:8080/"
        },
        "id": "ieWTVfsdo7na",
        "outputId": "4c5c6817-808e-475b-9ea8-6e7fd64cf31a"
      },
      "execution_count": 15,
      "outputs": [
        {
          "output_type": "stream",
          "name": "stdout",
          "text": [
            "Before SMOTE: Counter({'no': 27538, 'yes': 3662})\n"
          ]
        }
      ]
    },
    {
      "cell_type": "code",
      "source": [
        "smote = SMOTE(random_state=42)\n",
        "X_train_smote, y_train_smote = smote.fit_resample(X_train, y_train)"
      ],
      "metadata": {
        "colab": {
          "base_uri": "https://localhost:8080/"
        },
        "id": "tVW-wf6No_no",
        "outputId": "3f9c9301-0630-4c1f-b062-1cf58f0b4e66"
      },
      "execution_count": 16,
      "outputs": [
        {
          "output_type": "stream",
          "name": "stderr",
          "text": [
            "/usr/local/lib/python3.10/dist-packages/sklearn/base.py:474: FutureWarning: `BaseEstimator._validate_data` is deprecated in 1.6 and will be removed in 1.7. Use `sklearn.utils.validation.validate_data` instead. This function becomes public and is part of the scikit-learn developer API.\n",
            "  warnings.warn(\n",
            "/usr/local/lib/python3.10/dist-packages/sklearn/utils/_tags.py:354: FutureWarning: The SMOTE or classes from which it inherits use `_get_tags` and `_more_tags`. Please define the `__sklearn_tags__` method, or inherit from `sklearn.base.BaseEstimator` and/or other appropriate mixins such as `sklearn.base.TransformerMixin`, `sklearn.base.ClassifierMixin`, `sklearn.base.RegressorMixin`, and `sklearn.base.OutlierMixin`. From scikit-learn 1.7, not defining `__sklearn_tags__` will raise an error.\n",
            "  warnings.warn(\n"
          ]
        }
      ]
    },
    {
      "cell_type": "code",
      "source": [
        "print(\"After SMOTE:\", Counter(y_train_smote))"
      ],
      "metadata": {
        "colab": {
          "base_uri": "https://localhost:8080/"
        },
        "id": "gArgELxhpDTY",
        "outputId": "912eac5f-f132-4e44-e8b4-822b85ffb3a0"
      },
      "execution_count": 17,
      "outputs": [
        {
          "output_type": "stream",
          "name": "stdout",
          "text": [
            "After SMOTE: Counter({'no': 27538, 'yes': 27538})\n"
          ]
        }
      ]
    },
    {
      "cell_type": "code",
      "source": [
        "plt.figure(figsize=(6, 4))\n",
        "sns.countplot(x=y_train_smote, palette='viridis')\n",
        "plt.title(\"Target Distribution After SMOTE\")\n",
        "plt.xlabel(\"Target Variable ('y')\")\n",
        "plt.ylabel(\"Count\")\n",
        "plt.show()"
      ],
      "metadata": {
        "colab": {
          "base_uri": "https://localhost:8080/",
          "height": 497
        },
        "id": "ZeD3pexkpKZe",
        "outputId": "13a43d7e-60ec-4cf5-f905-573babef2e80"
      },
      "execution_count": 18,
      "outputs": [
        {
          "output_type": "stream",
          "name": "stderr",
          "text": [
            "<ipython-input-18-76f289daddde>:2: FutureWarning: \n",
            "\n",
            "Passing `palette` without assigning `hue` is deprecated and will be removed in v0.14.0. Assign the `x` variable to `hue` and set `legend=False` for the same effect.\n",
            "\n",
            "  sns.countplot(x=y_train_smote, palette='viridis')\n"
          ]
        },
        {
          "output_type": "display_data",
          "data": {
            "text/plain": [
              "<Figure size 600x400 with 1 Axes>"
            ],
            "image/png": "[encoded data removed]"
          },
          "metadata": {}
        }
      ]
    },
    {
      "cell_type": "code",
      "source": [
        "data.duplicated().sum()"
      ],
      "metadata": {
        "colab": {
          "base_uri": "https://localhost:8080/"
        },
        "id": "CgjTousKpcGq",
        "outputId": "43dddb5a-6b35-47cd-dfff-78673b42240f"
      },
      "execution_count": 19,
      "outputs": [
        {
          "output_type": "execute_result",
          "data": {
            "text/plain": [
              "0"
            ]
          },
          "metadata": {},
          "execution_count": 19
        }
      ]
    },
    {
      "cell_type": "markdown",
      "source": [
        "### Build ANN"
      ],
      "metadata": {
        "id": "8Z2McLO1_DtC"
      }
    },
    {
      "cell_type": "code",
      "source": [
        "from tensorflow.keras.models import Sequential\n",
        "from tensorflow.keras.layers import Dense\n",
        "from sklearn.metrics import accuracy_score, precision_score, recall_score, f1_score, classification_report, confusion_matrix, roc_auc_score\n",
        "from tensorflow.keras.layers import Dense, Dropout"
      ],
      "metadata": {
        "id": "auzBa1p5_ShP"
      },
      "execution_count": 20,
      "outputs": []
    },
    {
      "cell_type": "code",
      "source": [
        "y_train_encoded = y_train_smote.map({'yes': 1, 'no': 0}).values\n",
        "y_test_encoded = y_test.map({'yes': 1, 'no': 0}).values\n",
        "\n",
        "print(\"Encoded y_train values :\", y_train_encoded[:5])\n",
        "print(\"Encoded y_test values :\", y_test_encoded[:5])"
      ],
      "metadata": {
        "colab": {
          "base_uri": "https://localhost:8080/"
        },
        "id": "9tsqF4GdQxMU",
        "outputId": "02239765-b7cf-496d-939d-a701b34ccafa"
      },
      "execution_count": 21,
      "outputs": [
        {
          "output_type": "stream",
          "name": "stdout",
          "text": [
            "Encoded y_train values : [0 0 0 0 0]\n",
            "Encoded y_test values : [0 0 0 0 0]\n"
          ]
        }
      ]
    },
    {
      "cell_type": "code",
      "source": [
        "model = Sequential()"
      ],
      "metadata": {
        "id": "PhYk6P_M_ShQ"
      },
      "execution_count": 22,
      "outputs": []
    },
    {
      "cell_type": "code",
      "source": [
        "model.add(Dense(64, input_dim=X_train_smote.shape[1], activation='relu'))\n",
        "\n",
        "# Second hidden layer\n",
        "model.add(Dense(32, activation='relu'))\n",
        "\n",
        "# Output layer\n",
        "model.add(Dense(1, activation='sigmoid'))"
      ],
      "metadata": {
        "colab": {
          "base_uri": "https://localhost:8080/"
        },
        "id": "fut6c8fm_ShQ",
        "outputId": "c8600e2c-a207-48b5-9aa2-001ae2f109de"
      },
      "execution_count": 23,
      "outputs": [
        {
          "output_type": "stream",
          "name": "stderr",
          "text": [
            "/usr/local/lib/python3.10/dist-packages/keras/src/layers/core/dense.py:87: UserWarning: Do not pass an `input_shape`/`input_dim` argument to a layer. When using Sequential models, prefer using an `Input(shape)` object as the first layer in the model instead.\n",
            "  super().__init__(activity_regularizer=activity_regularizer, **kwargs)\n"
          ]
        }
      ]
    },
    {
      "cell_type": "code",
      "source": [
        "model.summary()"
      ],
      "metadata": {
        "colab": {
          "base_uri": "https://localhost:8080/",
          "height": 238
        },
        "outputId": "41f2bc70-b3bd-4e2e-e946-92feaf4e301d",
        "id": "eHXNbADN_ShQ"
      },
      "execution_count": 24,
      "outputs": [
        {
          "output_type": "display_data",
          "data": {
            "text/plain": [
              "\u001b[1mModel: \"sequential\"\u001b[0m\n"
            ],
            "text/html": [
              "<pre style=\"white-space:pre;overflow-x:auto;line-height:normal;font-family:Menlo,'DejaVu Sans Mono',consolas,'Courier New',monospace\"><span style=\"font-weight: bold\">Model: \"sequential\"</span>\n",
              "</pre>\n"
            ]
          },
          "metadata": {}
        },
        {
          "output_type": "display_data",
          "data": {
            "text/plain": [
              "┏━━━━━━━━━━━━━━━━━━━━━━━━━━━━━━━━━━━━━━┳━━━━━━━━━━━━━━━━━━━━━━━━━━━━━┳━━━━━━━━━━━━━━━━━┓\n",
              "┃\u001b[1m \u001b[0m\u001b[1mLayer (type)                        \u001b[0m\u001b[1m \u001b[0m┃\u001b[1m \u001b[0m\u001b[1mOutput Shape               \u001b[0m\u001b[1m \u001b[0m┃\u001b[1m \u001b[0m\u001b[1m        Param #\u001b[0m\u001b[1m \u001b[0m┃\n",
              "┡━━━━━━━━━━━━━━━━━━━━━━━━━━━━━━━━━━━━━━╇━━━━━━━━━━━━━━━━━━━━━━━━━━━━━╇━━━━━━━━━━━━━━━━━┩\n",
              "│ dense (\u001b[38;5;33mDense\u001b[0m)                        │ (\u001b[38;5;45mNone\u001b[0m, \u001b[38;5;34m64\u001b[0m)                  │           \u001b[38;5;34m3,008\u001b[0m │\n",
              "├──────────────────────────────────────┼─────────────────────────────┼─────────────────┤\n",
              "│ dense_1 (\u001b[38;5;33mDense\u001b[0m)                      │ (\u001b[38;5;45mNone\u001b[0m, \u001b[38;5;34m32\u001b[0m)                  │           \u001b[38;5;34m2,080\u001b[0m │\n",
              "├──────────────────────────────────────┼─────────────────────────────┼─────────────────┤\n",
              "│ dense_2 (\u001b[38;5;33mDense\u001b[0m)                      │ (\u001b[38;5;45mNone\u001b[0m, \u001b[38;5;34m1\u001b[0m)                   │              \u001b[38;5;34m33\u001b[0m │\n",
              "└──────────────────────────────────────┴─────────────────────────────┴─────────────────┘\n"
            ],
            "text/html": [
              "<pre style=\"white-space:pre;overflow-x:auto;line-height:normal;font-family:Menlo,'DejaVu Sans Mono',consolas,'Courier New',monospace\">┏━━━━━━━━━━━━━━━━━━━━━━━━━━━━━━━━━━━━━━┳━━━━━━━━━━━━━━━━━━━━━━━━━━━━━┳━━━━━━━━━━━━━━━━━┓\n",
              "┃<span style=\"font-weight: bold\"> Layer (type)                         </span>┃<span style=\"font-weight: bold\"> Output Shape                </span>┃<span style=\"font-weight: bold\">         Param # </span>┃\n",
              "┡━━━━━━━━━━━━━━━━━━━━━━━━━━━━━━━━━━━━━━╇━━━━━━━━━━━━━━━━━━━━━━━━━━━━━╇━━━━━━━━━━━━━━━━━┩\n",
              "│ dense (<span style=\"color: #0087ff; text-decoration-color: #0087ff\">Dense</span>)                        │ (<span style=\"color: #00d7ff; text-decoration-color: #00d7ff\">None</span>, <span style=\"color: #00af00; text-decoration-color: #00af00\">64</span>)                  │           <span style=\"color: #00af00; text-decoration-color: #00af00\">3,008</span> │\n",
              "├──────────────────────────────────────┼─────────────────────────────┼─────────────────┤\n",
              "│ dense_1 (<span style=\"color: #0087ff; text-decoration-color: #0087ff\">Dense</span>)                      │ (<span style=\"color: #00d7ff; text-decoration-color: #00d7ff\">None</span>, <span style=\"color: #00af00; text-decoration-color: #00af00\">32</span>)                  │           <span style=\"color: #00af00; text-decoration-color: #00af00\">2,080</span> │\n",
              "├──────────────────────────────────────┼─────────────────────────────┼─────────────────┤\n",
              "│ dense_2 (<span style=\"color: #0087ff; text-decoration-color: #0087ff\">Dense</span>)                      │ (<span style=\"color: #00d7ff; text-decoration-color: #00d7ff\">None</span>, <span style=\"color: #00af00; text-decoration-color: #00af00\">1</span>)                   │              <span style=\"color: #00af00; text-decoration-color: #00af00\">33</span> │\n",
              "└──────────────────────────────────────┴─────────────────────────────┴─────────────────┘\n",
              "</pre>\n"
            ]
          },
          "metadata": {}
        },
        {
          "output_type": "display_data",
          "data": {
            "text/plain": [
              "\u001b[1m Total params: \u001b[0m\u001b[38;5;34m5,121\u001b[0m (20.00 KB)\n"
            ],
            "text/html": [
              "<pre style=\"white-space:pre;overflow-x:auto;line-height:normal;font-family:Menlo,'DejaVu Sans Mono',consolas,'Courier New',monospace\"><span style=\"font-weight: bold\"> Total params: </span><span style=\"color: #00af00; text-decoration-color: #00af00\">5,121</span> (20.00 KB)\n",
              "</pre>\n"
            ]
          },
          "metadata": {}
        },
        {
          "output_type": "display_data",
          "data": {
            "text/plain": [
              "\u001b[1m Trainable params: \u001b[0m\u001b[38;5;34m5,121\u001b[0m (20.00 KB)\n"
            ],
            "text/html": [
              "<pre style=\"white-space:pre;overflow-x:auto;line-height:normal;font-family:Menlo,'DejaVu Sans Mono',consolas,'Courier New',monospace\"><span style=\"font-weight: bold\"> Trainable params: </span><span style=\"color: #00af00; text-decoration-color: #00af00\">5,121</span> (20.00 KB)\n",
              "</pre>\n"
            ]
          },
          "metadata": {}
        },
        {
          "output_type": "display_data",
          "data": {
            "text/plain": [
              "\u001b[1m Non-trainable params: \u001b[0m\u001b[38;5;34m0\u001b[0m (0.00 B)\n"
            ],
            "text/html": [
              "<pre style=\"white-space:pre;overflow-x:auto;line-height:normal;font-family:Menlo,'DejaVu Sans Mono',consolas,'Courier New',monospace\"><span style=\"font-weight: bold\"> Non-trainable params: </span><span style=\"color: #00af00; text-decoration-color: #00af00\">0</span> (0.00 B)\n",
              "</pre>\n"
            ]
          },
          "metadata": {}
        }
      ]
    },
    {
      "cell_type": "code",
      "source": [
        "from tensorflow.keras.optimizers import Adam\n",
        "\n",
        "model.compile(\n",
        "    optimizer=Adam(learning_rate=0.001),\n",
        "    loss='binary_crossentropy',\n",
        "    metrics=['accuracy']\n",
        ")"
      ],
      "metadata": {
        "id": "IGznj1uaO2mg"
      },
      "execution_count": 25,
      "outputs": []
    },
    {
      "cell_type": "code",
      "source": [
        "history = model.fit(\n",
        "    X_train_smote, y_train_encoded,\n",
        "    validation_data=(X_test, y_test_encoded),\n",
        "    epochs=100, batch_size=32, verbose=1,\n",
        ")"
      ],
      "metadata": {
        "colab": {
          "base_uri": "https://localhost:8080/"
        },
        "id": "WWTXtN3gPGEq",
        "outputId": "7de3242e-8924-4487-8dec-89dc07cb3fb9"
      },
      "execution_count": 26,
      "outputs": [
        {
          "output_type": "stream",
          "name": "stdout",
          "text": [
            "Epoch 1/100\n",
            "\u001b[1m1722/1722\u001b[0m \u001b[32m━━━━━━━━━━━━━━━━━━━━\u001b[0m\u001b[37m\u001b[0m \u001b[1m5s\u001b[0m 2ms/step - accuracy: 0.6712 - loss: 0.7574 - val_accuracy: 0.8777 - val_loss: 0.3321\n",
            "Epoch 2/100\n",
            "\u001b[1m1722/1722\u001b[0m \u001b[32m━━━━━━━━━━━━━━━━━━━━\u001b[0m\u001b[37m\u001b[0m \u001b[1m5s\u001b[0m 2ms/step - accuracy: 0.7765 - loss: 0.4889 - val_accuracy: 0.8871 - val_loss: 0.3261\n",
            "Epoch 3/100\n",
            "\u001b[1m1722/1722\u001b[0m \u001b[32m━━━━━━━━━━━━━━━━━━━━\u001b[0m\u001b[37m\u001b[0m \u001b[1m6s\u001b[0m 3ms/step - accuracy: 0.7889 - loss: 0.4841 - val_accuracy: 0.7276 - val_loss: 0.5897\n",
            "Epoch 4/100\n",
            "\u001b[1m1722/1722\u001b[0m \u001b[32m━━━━━━━━━━━━━━━━━━━━\u001b[0m\u001b[37m\u001b[0m \u001b[1m3s\u001b[0m 2ms/step - accuracy: 0.8026 - loss: 0.4569 - val_accuracy: 0.8863 - val_loss: 0.3476\n",
            "Epoch 5/100\n",
            "\u001b[1m1722/1722\u001b[0m \u001b[32m━━━━━━━━━━━━━━━━━━━━\u001b[0m\u001b[37m\u001b[0m \u001b[1m3s\u001b[0m 2ms/step - accuracy: 0.8159 - loss: 0.4281 - val_accuracy: 0.8855 - val_loss: 0.3438\n",
            "Epoch 6/100\n",
            "\u001b[1m1722/1722\u001b[0m \u001b[32m━━━━━━━━━━━━━━━━━━━━\u001b[0m\u001b[37m\u001b[0m \u001b[1m6s\u001b[0m 3ms/step - accuracy: 0.8212 - loss: 0.4098 - val_accuracy: 0.8821 - val_loss: 0.3399\n",
            "Epoch 7/100\n",
            "\u001b[1m1722/1722\u001b[0m \u001b[32m━━━━━━━━━━━━━━━━━━━━\u001b[0m\u001b[37m\u001b[0m \u001b[1m4s\u001b[0m 2ms/step - accuracy: 0.8164 - loss: 0.4155 - val_accuracy: 0.7095 - val_loss: 0.6039\n",
            "Epoch 8/100\n",
            "\u001b[1m1722/1722\u001b[0m \u001b[32m━━━━━━━━━━━━━━━━━━━━\u001b[0m\u001b[37m\u001b[0m \u001b[1m4s\u001b[0m 2ms/step - accuracy: 0.8286 - loss: 0.3889 - val_accuracy: 0.6103 - val_loss: 0.7368\n",
            "Epoch 9/100\n",
            "\u001b[1m1722/1722\u001b[0m \u001b[32m━━━━━━━━━━━━━━━━━━━━\u001b[0m\u001b[37m\u001b[0m \u001b[1m3s\u001b[0m 2ms/step - accuracy: 0.8268 - loss: 0.3948 - val_accuracy: 0.8662 - val_loss: 0.3688\n",
            "Epoch 10/100\n",
            "\u001b[1m1722/1722\u001b[0m \u001b[32m━━━━━━━━━━━━━━━━━━━━\u001b[0m\u001b[37m\u001b[0m \u001b[1m8s\u001b[0m 5ms/step - accuracy: 0.8311 - loss: 0.3808 - val_accuracy: 0.8668 - val_loss: 0.3559\n",
            "Epoch 11/100\n",
            "\u001b[1m1722/1722\u001b[0m \u001b[32m━━━━━━━━━━━━━━━━━━━━\u001b[0m\u001b[37m\u001b[0m \u001b[1m3s\u001b[0m 2ms/step - accuracy: 0.8293 - loss: 0.3835 - val_accuracy: 0.8299 - val_loss: 0.4236\n",
            "Epoch 12/100\n",
            "\u001b[1m1722/1722\u001b[0m \u001b[32m━━━━━━━━━━━━━━━━━━━━\u001b[0m\u001b[37m\u001b[0m \u001b[1m6s\u001b[0m 2ms/step - accuracy: 0.8425 - loss: 0.3649 - val_accuracy: 0.7677 - val_loss: 0.5126\n",
            "Epoch 13/100\n",
            "\u001b[1m1722/1722\u001b[0m \u001b[32m━━━━━━━━━━━━━━━━━━━━\u001b[0m\u001b[37m\u001b[0m \u001b[1m6s\u001b[0m 4ms/step - accuracy: 0.8375 - loss: 0.3691 - val_accuracy: 0.8850 - val_loss: 0.3287\n",
            "Epoch 14/100\n",
            "\u001b[1m1722/1722\u001b[0m \u001b[32m━━━━━━━━━━━━━━━━━━━━\u001b[0m\u001b[37m\u001b[0m \u001b[1m8s\u001b[0m 2ms/step - accuracy: 0.8410 - loss: 0.3615 - val_accuracy: 0.8841 - val_loss: 0.3252\n",
            "Epoch 15/100\n",
            "\u001b[1m1722/1722\u001b[0m \u001b[32m━━━━━━━━━━━━━━━━━━━━\u001b[0m\u001b[37m\u001b[0m \u001b[1m5s\u001b[0m 3ms/step - accuracy: 0.8456 - loss: 0.3562 - val_accuracy: 0.8444 - val_loss: 0.4067\n",
            "Epoch 16/100\n",
            "\u001b[1m1722/1722\u001b[0m \u001b[32m━━━━━━━━━━━━━━━━━━━━\u001b[0m\u001b[37m\u001b[0m \u001b[1m4s\u001b[0m 2ms/step - accuracy: 0.8481 - loss: 0.3507 - val_accuracy: 0.8858 - val_loss: 0.3085\n",
            "Epoch 17/100\n",
            "\u001b[1m1722/1722\u001b[0m \u001b[32m━━━━━━━━━━━━━━━━━━━━\u001b[0m\u001b[37m\u001b[0m \u001b[1m3s\u001b[0m 2ms/step - accuracy: 0.8409 - loss: 0.3562 - val_accuracy: 0.8667 - val_loss: 0.3572\n",
            "Epoch 18/100\n",
            "\u001b[1m1722/1722\u001b[0m \u001b[32m━━━━━━━━━━━━━━━━━━━━\u001b[0m\u001b[37m\u001b[0m \u001b[1m5s\u001b[0m 2ms/step - accuracy: 0.8510 - loss: 0.3403 - val_accuracy: 0.8840 - val_loss: 0.3064\n",
            "Epoch 19/100\n",
            "\u001b[1m1722/1722\u001b[0m \u001b[32m━━━━━━━━━━━━━━━━━━━━\u001b[0m\u001b[37m\u001b[0m \u001b[1m6s\u001b[0m 3ms/step - accuracy: 0.8525 - loss: 0.3384 - val_accuracy: 0.8813 - val_loss: 0.3142\n",
            "Epoch 20/100\n",
            "\u001b[1m1722/1722\u001b[0m \u001b[32m━━━━━━━━━━━━━━━━━━━━\u001b[0m\u001b[37m\u001b[0m \u001b[1m8s\u001b[0m 2ms/step - accuracy: 0.8507 - loss: 0.3365 - val_accuracy: 0.8856 - val_loss: 0.3020\n",
            "Epoch 21/100\n",
            "\u001b[1m1722/1722\u001b[0m \u001b[32m━━━━━━━━━━━━━━━━━━━━\u001b[0m\u001b[37m\u001b[0m \u001b[1m8s\u001b[0m 3ms/step - accuracy: 0.8530 - loss: 0.3303 - val_accuracy: 0.8477 - val_loss: 0.3825\n",
            "Epoch 22/100\n",
            "\u001b[1m1722/1722\u001b[0m \u001b[32m━━━━━━━━━━━━━━━━━━━━\u001b[0m\u001b[37m\u001b[0m \u001b[1m3s\u001b[0m 2ms/step - accuracy: 0.8529 - loss: 0.3325 - val_accuracy: 0.8846 - val_loss: 0.3122\n",
            "Epoch 23/100\n",
            "\u001b[1m1722/1722\u001b[0m \u001b[32m━━━━━━━━━━━━━━━━━━━━\u001b[0m\u001b[37m\u001b[0m \u001b[1m3s\u001b[0m 2ms/step - accuracy: 0.8547 - loss: 0.3304 - val_accuracy: 0.8486 - val_loss: 0.3810\n",
            "Epoch 24/100\n",
            "\u001b[1m1722/1722\u001b[0m \u001b[32m━━━━━━━━━━━━━━━━━━━━\u001b[0m\u001b[37m\u001b[0m \u001b[1m4s\u001b[0m 2ms/step - accuracy: 0.8604 - loss: 0.3233 - val_accuracy: 0.8833 - val_loss: 0.3132\n",
            "Epoch 25/100\n",
            "\u001b[1m1722/1722\u001b[0m \u001b[32m━━━━━━━━━━━━━━━━━━━━\u001b[0m\u001b[37m\u001b[0m \u001b[1m5s\u001b[0m 3ms/step - accuracy: 0.8562 - loss: 0.3290 - val_accuracy: 0.8835 - val_loss: 0.3110\n",
            "Epoch 26/100\n",
            "\u001b[1m1722/1722\u001b[0m \u001b[32m━━━━━━━━━━━━━━━━━━━━\u001b[0m\u001b[37m\u001b[0m \u001b[1m3s\u001b[0m 2ms/step - accuracy: 0.8544 - loss: 0.3340 - val_accuracy: 0.7774 - val_loss: 0.4766\n",
            "Epoch 27/100\n",
            "\u001b[1m1722/1722\u001b[0m \u001b[32m━━━━━━━━━━━━━━━━━━━━\u001b[0m\u001b[37m\u001b[0m \u001b[1m3s\u001b[0m 2ms/step - accuracy: 0.8571 - loss: 0.3240 - val_accuracy: 0.8737 - val_loss: 0.3453\n",
            "Epoch 28/100\n",
            "\u001b[1m1722/1722\u001b[0m \u001b[32m━━━━━━━━━━━━━━━━━━━━\u001b[0m\u001b[37m\u001b[0m \u001b[1m6s\u001b[0m 3ms/step - accuracy: 0.8557 - loss: 0.3283 - val_accuracy: 0.8841 - val_loss: 0.3005\n",
            "Epoch 29/100\n",
            "\u001b[1m1722/1722\u001b[0m \u001b[32m━━━━━━━━━━━━━━━━━━━━\u001b[0m\u001b[37m\u001b[0m \u001b[1m4s\u001b[0m 2ms/step - accuracy: 0.8555 - loss: 0.3288 - val_accuracy: 0.8822 - val_loss: 0.3203\n",
            "Epoch 30/100\n",
            "\u001b[1m1722/1722\u001b[0m \u001b[32m━━━━━━━━━━━━━━━━━━━━\u001b[0m\u001b[37m\u001b[0m \u001b[1m3s\u001b[0m 2ms/step - accuracy: 0.8550 - loss: 0.3250 - val_accuracy: 0.8881 - val_loss: 0.3132\n",
            "Epoch 31/100\n",
            "\u001b[1m1722/1722\u001b[0m \u001b[32m━━━━━━━━━━━━━━━━━━━━\u001b[0m\u001b[37m\u001b[0m \u001b[1m6s\u001b[0m 2ms/step - accuracy: 0.8573 - loss: 0.3258 - val_accuracy: 0.8753 - val_loss: 0.3310\n",
            "Epoch 32/100\n",
            "\u001b[1m1722/1722\u001b[0m \u001b[32m━━━━━━━━━━━━━━━━━━━━\u001b[0m\u001b[37m\u001b[0m \u001b[1m6s\u001b[0m 3ms/step - accuracy: 0.8582 - loss: 0.3264 - val_accuracy: 0.8691 - val_loss: 0.3442\n",
            "Epoch 33/100\n",
            "\u001b[1m1722/1722\u001b[0m \u001b[32m━━━━━━━━━━━━━━━━━━━━\u001b[0m\u001b[37m\u001b[0m \u001b[1m3s\u001b[0m 2ms/step - accuracy: 0.8632 - loss: 0.3136 - val_accuracy: 0.8814 - val_loss: 0.3149\n",
            "Epoch 34/100\n",
            "\u001b[1m1722/1722\u001b[0m \u001b[32m━━━━━━━━━━━━━━━━━━━━\u001b[0m\u001b[37m\u001b[0m \u001b[1m6s\u001b[0m 2ms/step - accuracy: 0.8539 - loss: 0.3304 - val_accuracy: 0.8847 - val_loss: 0.3136\n",
            "Epoch 35/100\n",
            "\u001b[1m1722/1722\u001b[0m \u001b[32m━━━━━━━━━━━━━━━━━━━━\u001b[0m\u001b[37m\u001b[0m \u001b[1m5s\u001b[0m 2ms/step - accuracy: 0.8617 - loss: 0.3182 - val_accuracy: 0.8760 - val_loss: 0.3283\n",
            "Epoch 36/100\n",
            "\u001b[1m1722/1722\u001b[0m \u001b[32m━━━━━━━━━━━━━━━━━━━━\u001b[0m\u001b[37m\u001b[0m \u001b[1m3s\u001b[0m 2ms/step - accuracy: 0.8603 - loss: 0.3198 - val_accuracy: 0.8729 - val_loss: 0.3351\n",
            "Epoch 37/100\n",
            "\u001b[1m1722/1722\u001b[0m \u001b[32m━━━━━━━━━━━━━━━━━━━━\u001b[0m\u001b[37m\u001b[0m \u001b[1m3s\u001b[0m 2ms/step - accuracy: 0.8675 - loss: 0.3064 - val_accuracy: 0.8856 - val_loss: 0.3143\n",
            "Epoch 38/100\n",
            "\u001b[1m1722/1722\u001b[0m \u001b[32m━━━━━━━━━━━━━━━━━━━━\u001b[0m\u001b[37m\u001b[0m \u001b[1m7s\u001b[0m 3ms/step - accuracy: 0.8595 - loss: 0.3216 - val_accuracy: 0.8386 - val_loss: 0.3954\n",
            "Epoch 39/100\n",
            "\u001b[1m1722/1722\u001b[0m \u001b[32m━━━━━━━━━━━━━━━━━━━━\u001b[0m\u001b[37m\u001b[0m \u001b[1m8s\u001b[0m 2ms/step - accuracy: 0.8618 - loss: 0.3182 - val_accuracy: 0.8762 - val_loss: 0.3295\n",
            "Epoch 40/100\n",
            "\u001b[1m1722/1722\u001b[0m \u001b[32m━━━━━━━━━━━━━━━━━━━━\u001b[0m\u001b[37m\u001b[0m \u001b[1m7s\u001b[0m 3ms/step - accuracy: 0.8612 - loss: 0.3177 - val_accuracy: 0.8794 - val_loss: 0.3187\n",
            "Epoch 41/100\n",
            "\u001b[1m1722/1722\u001b[0m \u001b[32m━━━━━━━━━━━━━━━━━━━━\u001b[0m\u001b[37m\u001b[0m \u001b[1m3s\u001b[0m 2ms/step - accuracy: 0.8571 - loss: 0.3275 - val_accuracy: 0.8681 - val_loss: 0.3595\n",
            "Epoch 42/100\n",
            "\u001b[1m1722/1722\u001b[0m \u001b[32m━━━━━━━━━━━━━━━━━━━━\u001b[0m\u001b[37m\u001b[0m \u001b[1m5s\u001b[0m 2ms/step - accuracy: 0.8606 - loss: 0.3165 - val_accuracy: 0.8705 - val_loss: 0.3418\n",
            "Epoch 43/100\n",
            "\u001b[1m1722/1722\u001b[0m \u001b[32m━━━━━━━━━━━━━━━━━━━━\u001b[0m\u001b[37m\u001b[0m \u001b[1m5s\u001b[0m 3ms/step - accuracy: 0.8569 - loss: 0.3250 - val_accuracy: 0.7855 - val_loss: 0.4685\n",
            "Epoch 44/100\n",
            "\u001b[1m1722/1722\u001b[0m \u001b[32m━━━━━━━━━━━━━━━━━━━━\u001b[0m\u001b[37m\u001b[0m \u001b[1m4s\u001b[0m 2ms/step - accuracy: 0.8595 - loss: 0.3224 - val_accuracy: 0.7823 - val_loss: 0.4969\n",
            "Epoch 45/100\n",
            "\u001b[1m1722/1722\u001b[0m \u001b[32m━━━━━━━━━━━━━━━━━━━━\u001b[0m\u001b[37m\u001b[0m \u001b[1m4s\u001b[0m 2ms/step - accuracy: 0.8603 - loss: 0.3151 - val_accuracy: 0.8871 - val_loss: 0.2958\n",
            "Epoch 46/100\n",
            "\u001b[1m1722/1722\u001b[0m \u001b[32m━━━━━━━━━━━━━━━━━━━━\u001b[0m\u001b[37m\u001b[0m \u001b[1m6s\u001b[0m 2ms/step - accuracy: 0.8550 - loss: 0.3339 - val_accuracy: 0.8679 - val_loss: 0.3522\n",
            "Epoch 47/100\n",
            "\u001b[1m1722/1722\u001b[0m \u001b[32m━━━━━━━━━━━━━━━━━━━━\u001b[0m\u001b[37m\u001b[0m \u001b[1m5s\u001b[0m 2ms/step - accuracy: 0.8594 - loss: 0.3204 - val_accuracy: 0.6021 - val_loss: 1.4115\n",
            "Epoch 48/100\n",
            "\u001b[1m1722/1722\u001b[0m \u001b[32m━━━━━━━━━━━━━━━━━━━━\u001b[0m\u001b[37m\u001b[0m \u001b[1m5s\u001b[0m 2ms/step - accuracy: 0.8526 - loss: 0.3372 - val_accuracy: 0.8799 - val_loss: 0.3207\n",
            "Epoch 49/100\n",
            "\u001b[1m1722/1722\u001b[0m \u001b[32m━━━━━━━━━━━━━━━━━━━━\u001b[0m\u001b[37m\u001b[0m \u001b[1m7s\u001b[0m 3ms/step - accuracy: 0.8626 - loss: 0.3166 - val_accuracy: 0.8794 - val_loss: 0.3235\n",
            "Epoch 50/100\n",
            "\u001b[1m1722/1722\u001b[0m \u001b[32m━━━━━━━━━━━━━━━━━━━━\u001b[0m\u001b[37m\u001b[0m \u001b[1m4s\u001b[0m 2ms/step - accuracy: 0.8644 - loss: 0.3122 - val_accuracy: 0.8515 - val_loss: 0.3924\n",
            "Epoch 51/100\n",
            "\u001b[1m1722/1722\u001b[0m \u001b[32m━━━━━━━━━━━━━━━━━━━━\u001b[0m\u001b[37m\u001b[0m \u001b[1m3s\u001b[0m 2ms/step - accuracy: 0.8634 - loss: 0.3170 - val_accuracy: 0.8333 - val_loss: 0.4122\n",
            "Epoch 52/100\n",
            "\u001b[1m1722/1722\u001b[0m \u001b[32m━━━━━━━━━━━━━━━━━━━━\u001b[0m\u001b[37m\u001b[0m \u001b[1m3s\u001b[0m 2ms/step - accuracy: 0.8596 - loss: 0.3212 - val_accuracy: 0.8697 - val_loss: 0.3478\n",
            "Epoch 53/100\n",
            "\u001b[1m1722/1722\u001b[0m \u001b[32m━━━━━━━━━━━━━━━━━━━━\u001b[0m\u001b[37m\u001b[0m \u001b[1m5s\u001b[0m 3ms/step - accuracy: 0.8571 - loss: 0.3282 - val_accuracy: 0.8478 - val_loss: 0.3903\n",
            "Epoch 54/100\n",
            "\u001b[1m1722/1722\u001b[0m \u001b[32m━━━━━━━━━━━━━━━━━━━━\u001b[0m\u001b[37m\u001b[0m \u001b[1m4s\u001b[0m 2ms/step - accuracy: 0.8598 - loss: 0.3273 - val_accuracy: 0.8521 - val_loss: 0.3783\n",
            "Epoch 55/100\n",
            "\u001b[1m1722/1722\u001b[0m \u001b[32m━━━━━━━━━━━━━━━━━━━━\u001b[0m\u001b[37m\u001b[0m \u001b[1m5s\u001b[0m 2ms/step - accuracy: 0.8578 - loss: 0.3252 - val_accuracy: 0.8703 - val_loss: 0.3437\n",
            "Epoch 56/100\n",
            "\u001b[1m1722/1722\u001b[0m \u001b[32m━━━━━━━━━━━━━━━━━━━━\u001b[0m\u001b[37m\u001b[0m \u001b[1m7s\u001b[0m 3ms/step - accuracy: 0.8664 - loss: 0.3123 - val_accuracy: 0.7135 - val_loss: 0.6494\n",
            "Epoch 57/100\n",
            "\u001b[1m1722/1722\u001b[0m \u001b[32m━━━━━━━━━━━━━━━━━━━━\u001b[0m\u001b[37m\u001b[0m \u001b[1m4s\u001b[0m 2ms/step - accuracy: 0.8654 - loss: 0.3100 - val_accuracy: 0.8451 - val_loss: 0.3842\n",
            "Epoch 58/100\n",
            "\u001b[1m1722/1722\u001b[0m \u001b[32m━━━━━━━━━━━━━━━━━━━━\u001b[0m\u001b[37m\u001b[0m \u001b[1m5s\u001b[0m 2ms/step - accuracy: 0.8618 - loss: 0.3188 - val_accuracy: 0.8517 - val_loss: 0.3668\n",
            "Epoch 59/100\n",
            "\u001b[1m1722/1722\u001b[0m \u001b[32m━━━━━━━━━━━━━━━━━━━━\u001b[0m\u001b[37m\u001b[0m \u001b[1m7s\u001b[0m 3ms/step - accuracy: 0.8611 - loss: 0.3198 - val_accuracy: 0.8594 - val_loss: 0.3737\n",
            "Epoch 60/100\n",
            "\u001b[1m1722/1722\u001b[0m \u001b[32m━━━━━━━━━━━━━━━━━━━━\u001b[0m\u001b[37m\u001b[0m \u001b[1m8s\u001b[0m 2ms/step - accuracy: 0.8612 - loss: 0.3280 - val_accuracy: 0.8188 - val_loss: 0.4353\n",
            "Epoch 61/100\n",
            "\u001b[1m1722/1722\u001b[0m \u001b[32m━━━━━━━━━━━━━━━━━━━━\u001b[0m\u001b[37m\u001b[0m \u001b[1m7s\u001b[0m 3ms/step - accuracy: 0.8653 - loss: 0.3102 - val_accuracy: 0.8127 - val_loss: 0.4270\n",
            "Epoch 62/100\n",
            "\u001b[1m1722/1722\u001b[0m \u001b[32m━━━━━━━━━━━━━━━━━━━━\u001b[0m\u001b[37m\u001b[0m \u001b[1m8s\u001b[0m 2ms/step - accuracy: 0.8643 - loss: 0.3140 - val_accuracy: 0.8333 - val_loss: 0.4068\n",
            "Epoch 63/100\n",
            "\u001b[1m1722/1722\u001b[0m \u001b[32m━━━━━━━━━━━━━━━━━━━━\u001b[0m\u001b[37m\u001b[0m \u001b[1m4s\u001b[0m 2ms/step - accuracy: 0.8627 - loss: 0.3121 - val_accuracy: 0.8314 - val_loss: 0.4047\n",
            "Epoch 64/100\n",
            "\u001b[1m1722/1722\u001b[0m \u001b[32m━━━━━━━━━━━━━━━━━━━━\u001b[0m\u001b[37m\u001b[0m \u001b[1m5s\u001b[0m 3ms/step - accuracy: 0.8678 - loss: 0.3087 - val_accuracy: 0.8673 - val_loss: 0.3588\n",
            "Epoch 65/100\n",
            "\u001b[1m1722/1722\u001b[0m \u001b[32m━━━━━━━━━━━━━━━━━━━━\u001b[0m\u001b[37m\u001b[0m \u001b[1m4s\u001b[0m 2ms/step - accuracy: 0.8602 - loss: 0.3249 - val_accuracy: 0.6986 - val_loss: 0.6420\n",
            "Epoch 66/100\n",
            "\u001b[1m1722/1722\u001b[0m \u001b[32m━━━━━━━━━━━━━━━━━━━━\u001b[0m\u001b[37m\u001b[0m \u001b[1m5s\u001b[0m 2ms/step - accuracy: 0.8643 - loss: 0.3147 - val_accuracy: 0.8862 - val_loss: 0.2998\n",
            "Epoch 67/100\n",
            "\u001b[1m1722/1722\u001b[0m \u001b[32m━━━━━━━━━━━━━━━━━━━━\u001b[0m\u001b[37m\u001b[0m \u001b[1m5s\u001b[0m 3ms/step - accuracy: 0.8679 - loss: 0.3086 - val_accuracy: 0.8667 - val_loss: 0.3459\n",
            "Epoch 68/100\n",
            "\u001b[1m1722/1722\u001b[0m \u001b[32m━━━━━━━━━━━━━━━━━━━━\u001b[0m\u001b[37m\u001b[0m \u001b[1m8s\u001b[0m 2ms/step - accuracy: 0.8650 - loss: 0.3110 - val_accuracy: 0.8858 - val_loss: 0.3057\n",
            "Epoch 69/100\n",
            "\u001b[1m1722/1722\u001b[0m \u001b[32m━━━━━━━━━━━━━━━━━━━━\u001b[0m\u001b[37m\u001b[0m \u001b[1m7s\u001b[0m 3ms/step - accuracy: 0.8679 - loss: 0.3038 - val_accuracy: 0.8658 - val_loss: 0.3547\n",
            "Epoch 70/100\n",
            "\u001b[1m1722/1722\u001b[0m \u001b[32m━━━━━━━━━━━━━━━━━━━━\u001b[0m\u001b[37m\u001b[0m \u001b[1m8s\u001b[0m 2ms/step - accuracy: 0.8664 - loss: 0.3103 - val_accuracy: 0.8821 - val_loss: 0.3185\n",
            "Epoch 71/100\n",
            "\u001b[1m1722/1722\u001b[0m \u001b[32m━━━━━━━━━━━━━━━━━━━━\u001b[0m\u001b[37m\u001b[0m \u001b[1m5s\u001b[0m 3ms/step - accuracy: 0.8714 - loss: 0.3014 - val_accuracy: 0.8808 - val_loss: 0.3270\n",
            "Epoch 72/100\n",
            "\u001b[1m1722/1722\u001b[0m \u001b[32m━━━━━━━━━━━━━━━━━━━━\u001b[0m\u001b[37m\u001b[0m \u001b[1m5s\u001b[0m 3ms/step - accuracy: 0.8680 - loss: 0.3052 - val_accuracy: 0.8804 - val_loss: 0.3142\n",
            "Epoch 73/100\n",
            "\u001b[1m1722/1722\u001b[0m \u001b[32m━━━━━━━━━━━━━━━━━━━━\u001b[0m\u001b[37m\u001b[0m \u001b[1m3s\u001b[0m 2ms/step - accuracy: 0.8582 - loss: 0.3221 - val_accuracy: 0.8505 - val_loss: 0.3925\n",
            "Epoch 74/100\n",
            "\u001b[1m1722/1722\u001b[0m \u001b[32m━━━━━━━━━━━━━━━━━━━━\u001b[0m\u001b[37m\u001b[0m \u001b[1m5s\u001b[0m 2ms/step - accuracy: 0.8676 - loss: 0.3083 - val_accuracy: 0.7671 - val_loss: 0.4978\n",
            "Epoch 75/100\n",
            "\u001b[1m1722/1722\u001b[0m \u001b[32m━━━━━━━━━━━━━━━━━━━━\u001b[0m\u001b[37m\u001b[0m \u001b[1m6s\u001b[0m 2ms/step - accuracy: 0.8655 - loss: 0.3114 - val_accuracy: 0.8705 - val_loss: 0.3431\n",
            "Epoch 76/100\n",
            "\u001b[1m1722/1722\u001b[0m \u001b[32m━━━━━━━━━━━━━━━━━━━━\u001b[0m\u001b[37m\u001b[0m \u001b[1m7s\u001b[0m 3ms/step - accuracy: 0.8686 - loss: 0.3035 - val_accuracy: 0.8331 - val_loss: 0.4120\n",
            "Epoch 77/100\n",
            "\u001b[1m1722/1722\u001b[0m \u001b[32m━━━━━━━━━━━━━━━━━━━━\u001b[0m\u001b[37m\u001b[0m \u001b[1m13s\u001b[0m 5ms/step - accuracy: 0.8539 - loss: 0.3380 - val_accuracy: 0.7976 - val_loss: 0.4641\n",
            "Epoch 78/100\n",
            "\u001b[1m1722/1722\u001b[0m \u001b[32m━━━━━━━━━━━━━━━━━━━━\u001b[0m\u001b[37m\u001b[0m \u001b[1m7s\u001b[0m 4ms/step - accuracy: 0.8699 - loss: 0.3026 - val_accuracy: 0.8844 - val_loss: 0.3150\n",
            "Epoch 79/100\n",
            "\u001b[1m1722/1722\u001b[0m \u001b[32m━━━━━━━━━━━━━━━━━━━━\u001b[0m\u001b[37m\u001b[0m \u001b[1m9s\u001b[0m 3ms/step - accuracy: 0.8557 - loss: 0.3315 - val_accuracy: 0.8600 - val_loss: 0.3611\n",
            "Epoch 80/100\n",
            "\u001b[1m1722/1722\u001b[0m \u001b[32m━━━━━━━━━━━━━━━━━━━━\u001b[0m\u001b[37m\u001b[0m \u001b[1m4s\u001b[0m 2ms/step - accuracy: 0.8653 - loss: 0.3151 - val_accuracy: 0.8740 - val_loss: 0.3362\n",
            "Epoch 81/100\n",
            "\u001b[1m1722/1722\u001b[0m \u001b[32m━━━━━━━━━━━━━━━━━━━━\u001b[0m\u001b[37m\u001b[0m \u001b[1m8s\u001b[0m 5ms/step - accuracy: 0.8707 - loss: 0.3015 - val_accuracy: 0.7318 - val_loss: 0.5706\n",
            "Epoch 82/100\n",
            "\u001b[1m1722/1722\u001b[0m \u001b[32m━━━━━━━━━━━━━━━━━━━━\u001b[0m\u001b[37m\u001b[0m \u001b[1m6s\u001b[0m 2ms/step - accuracy: 0.8475 - loss: 0.3532 - val_accuracy: 0.8791 - val_loss: 0.3208\n",
            "Epoch 83/100\n",
            "\u001b[1m1722/1722\u001b[0m \u001b[32m━━━━━━━━━━━━━━━━━━━━\u001b[0m\u001b[37m\u001b[0m \u001b[1m9s\u001b[0m 4ms/step - accuracy: 0.8686 - loss: 0.3058 - val_accuracy: 0.8849 - val_loss: 0.3115\n",
            "Epoch 84/100\n",
            "\u001b[1m1722/1722\u001b[0m \u001b[32m━━━━━━━━━━━━━━━━━━━━\u001b[0m\u001b[37m\u001b[0m \u001b[1m7s\u001b[0m 3ms/step - accuracy: 0.8654 - loss: 0.3079 - val_accuracy: 0.8785 - val_loss: 0.3369\n",
            "Epoch 85/100\n",
            "\u001b[1m1722/1722\u001b[0m \u001b[32m━━━━━━━━━━━━━━━━━━━━\u001b[0m\u001b[37m\u001b[0m \u001b[1m7s\u001b[0m 4ms/step - accuracy: 0.8510 - loss: 0.3430 - val_accuracy: 0.8787 - val_loss: 0.3269\n",
            "Epoch 86/100\n",
            "\u001b[1m1722/1722\u001b[0m \u001b[32m━━━━━━━━━━━━━━━━━━━━\u001b[0m\u001b[37m\u001b[0m \u001b[1m6s\u001b[0m 3ms/step - accuracy: 0.8532 - loss: 0.3395 - val_accuracy: 0.7777 - val_loss: 0.4909\n",
            "Epoch 87/100\n",
            "\u001b[1m1722/1722\u001b[0m \u001b[32m━━━━━━━━━━━━━━━━━━━━\u001b[0m\u001b[37m\u001b[0m \u001b[1m9s\u001b[0m 3ms/step - accuracy: 0.8594 - loss: 0.3260 - val_accuracy: 0.7768 - val_loss: 0.4987\n",
            "Epoch 88/100\n",
            "\u001b[1m1722/1722\u001b[0m \u001b[32m━━━━━━━━━━━━━━━━━━━━\u001b[0m\u001b[37m\u001b[0m \u001b[1m4s\u001b[0m 2ms/step - accuracy: 0.8633 - loss: 0.3132 - val_accuracy: 0.8673 - val_loss: 0.3651\n",
            "Epoch 89/100\n",
            "\u001b[1m1722/1722\u001b[0m \u001b[32m━━━━━━━━━━━━━━━━━━━━\u001b[0m\u001b[37m\u001b[0m \u001b[1m5s\u001b[0m 2ms/step - accuracy: 0.8648 - loss: 0.3157 - val_accuracy: 0.8769 - val_loss: 0.3265\n",
            "Epoch 90/100\n",
            "\u001b[1m1722/1722\u001b[0m \u001b[32m━━━━━━━━━━━━━━━━━━━━\u001b[0m\u001b[37m\u001b[0m \u001b[1m4s\u001b[0m 2ms/step - accuracy: 0.8660 - loss: 0.3133 - val_accuracy: 0.8810 - val_loss: 0.3150\n",
            "Epoch 91/100\n",
            "\u001b[1m1722/1722\u001b[0m \u001b[32m━━━━━━━━━━━━━━━━━━━━\u001b[0m\u001b[37m\u001b[0m \u001b[1m5s\u001b[0m 2ms/step - accuracy: 0.8663 - loss: 0.3116 - val_accuracy: 0.8572 - val_loss: 0.3828\n",
            "Epoch 92/100\n",
            "\u001b[1m1722/1722\u001b[0m \u001b[32m━━━━━━━━━━━━━━━━━━━━\u001b[0m\u001b[37m\u001b[0m \u001b[1m4s\u001b[0m 2ms/step - accuracy: 0.8669 - loss: 0.3109 - val_accuracy: 0.8767 - val_loss: 0.3286\n",
            "Epoch 93/100\n",
            "\u001b[1m1722/1722\u001b[0m \u001b[32m━━━━━━━━━━━━━━━━━━━━\u001b[0m\u001b[37m\u001b[0m \u001b[1m6s\u001b[0m 3ms/step - accuracy: 0.8641 - loss: 0.3124 - val_accuracy: 0.8826 - val_loss: 0.3315\n",
            "Epoch 94/100\n",
            "\u001b[1m1722/1722\u001b[0m \u001b[32m━━━━━━━━━━━━━━━━━━━━\u001b[0m\u001b[37m\u001b[0m \u001b[1m5s\u001b[0m 2ms/step - accuracy: 0.8668 - loss: 0.3076 - val_accuracy: 0.8738 - val_loss: 0.3331\n",
            "Epoch 95/100\n",
            "\u001b[1m1722/1722\u001b[0m \u001b[32m━━━━━━━━━━━━━━━━━━━━\u001b[0m\u001b[37m\u001b[0m \u001b[1m3s\u001b[0m 2ms/step - accuracy: 0.8695 - loss: 0.3043 - val_accuracy: 0.8692 - val_loss: 0.3654\n",
            "Epoch 96/100\n",
            "\u001b[1m1722/1722\u001b[0m \u001b[32m━━━━━━━━━━━━━━━━━━━━\u001b[0m\u001b[37m\u001b[0m \u001b[1m6s\u001b[0m 2ms/step - accuracy: 0.8707 - loss: 0.3031 - val_accuracy: 0.8619 - val_loss: 0.3727\n",
            "Epoch 97/100\n",
            "\u001b[1m1722/1722\u001b[0m \u001b[32m━━━━━━━━━━━━━━━━━━━━\u001b[0m\u001b[37m\u001b[0m \u001b[1m5s\u001b[0m 3ms/step - accuracy: 0.8669 - loss: 0.3058 - val_accuracy: 0.8627 - val_loss: 0.3670\n",
            "Epoch 98/100\n",
            "\u001b[1m1722/1722\u001b[0m \u001b[32m━━━━━━━━━━━━━━━━━━━━\u001b[0m\u001b[37m\u001b[0m \u001b[1m12s\u001b[0m 4ms/step - accuracy: 0.8708 - loss: 0.3002 - val_accuracy: 0.8758 - val_loss: 0.3437\n",
            "Epoch 99/100\n",
            "\u001b[1m1722/1722\u001b[0m \u001b[32m━━━━━━━━━━━━━━━━━━━━\u001b[0m\u001b[37m\u001b[0m \u001b[1m9s\u001b[0m 3ms/step - accuracy: 0.8646 - loss: 0.3142 - val_accuracy: 0.8656 - val_loss: 0.3566\n",
            "Epoch 100/100\n",
            "\u001b[1m1722/1722\u001b[0m \u001b[32m━━━━━━━━━━━━━━━━━━━━\u001b[0m\u001b[37m\u001b[0m \u001b[1m6s\u001b[0m 3ms/step - accuracy: 0.8676 - loss: 0.3075 - val_accuracy: 0.8504 - val_loss: 0.3981\n"
          ]
        }
      ]
    },
    {
      "cell_type": "code",
      "source": [
        "y_pred_train = (model.predict(X_train_smote) > 0.5).astype(\"int32\")\n",
        "\n",
        "training_accuracy = accuracy_score(y_train_encoded, y_pred_train)\n",
        "print(f\"\\nTraining Accuracy: {training_accuracy}\")"
      ],
      "metadata": {
        "colab": {
          "base_uri": "https://localhost:8080/"
        },
        "id": "KZRUiQDCJW9f",
        "outputId": "416ebd89-c5fc-4e52-e098-85ee075298e0"
      },
      "execution_count": 27,
      "outputs": [
        {
          "output_type": "stream",
          "name": "stdout",
          "text": [
            "\u001b[1m1722/1722\u001b[0m \u001b[32m━━━━━━━━━━━━━━━━━━━━\u001b[0m\u001b[37m\u001b[0m \u001b[1m4s\u001b[0m 2ms/step\n",
            "\n",
            "Training Accuracy: 0.874337279395744\n"
          ]
        }
      ]
    },
    {
      "cell_type": "code",
      "source": [
        "test_loss, test_accuracy = model.evaluate(X_test, y_test_encoded, verbose=0)\n",
        "print(f\"\\nTest Accuracy: {test_accuracy}\")"
      ],
      "metadata": {
        "colab": {
          "base_uri": "https://localhost:8080/"
        },
        "id": "IwJnj_EqRxdL",
        "outputId": "dfbdbe87-53fc-4ad3-ac9f-d8b74d566f3b"
      },
      "execution_count": 28,
      "outputs": [
        {
          "output_type": "stream",
          "name": "stdout",
          "text": [
            "\n",
            "Test Accuracy: 0.8503845930099487\n"
          ]
        }
      ]
    },
    {
      "cell_type": "code",
      "source": [
        "y_pred = (model.predict(X_test) > 0.5).astype(\"int32\")"
      ],
      "metadata": {
        "colab": {
          "base_uri": "https://localhost:8080/"
        },
        "id": "Wg3yV-aiRxZY",
        "outputId": "84a4d788-d7b7-4cb2-db76-6ac4db246c8e"
      },
      "execution_count": 29,
      "outputs": [
        {
          "output_type": "stream",
          "name": "stdout",
          "text": [
            "\u001b[1m244/244\u001b[0m \u001b[32m━━━━━━━━━━━━━━━━━━━━\u001b[0m\u001b[37m\u001b[0m \u001b[1m0s\u001b[0m 1ms/step\n"
          ]
        }
      ]
    },
    {
      "cell_type": "code",
      "source": [
        "accuracy = accuracy_score(y_test_encoded, y_pred)\n",
        "precision = precision_score(y_test_encoded, y_pred)\n",
        "recall = recall_score(y_test_encoded, y_pred)\n",
        "f1 = f1_score(y_test_encoded, y_pred)\n",
        "roc_auc = roc_auc_score(y_test_encoded, y_pred)\n",
        "\n",
        "print(f\"Accuracy: {accuracy}\")\n",
        "print(f\"Precision: {precision}\")\n",
        "print(f\"Recall: {recall}\")\n",
        "print(f\"F1 Score: {f1}\")\n",
        "print(f\"ROC AUC Score: {roc_auc}\")"
      ],
      "metadata": {
        "colab": {
          "base_uri": "https://localhost:8080/"
        },
        "id": "z6NW4Q4J5Ph7",
        "outputId": "39b77e53-720d-410d-d420-96b81e78c14d"
      },
      "execution_count": 30,
      "outputs": [
        {
          "output_type": "stream",
          "name": "stdout",
          "text": [
            "Accuracy: 0.8503846153846154\n",
            "Precision: 0.39429530201342283\n",
            "Recall: 0.5136612021857924\n",
            "F1 Score: 0.4461319411485524\n",
            "ROC AUC Score: 0.7043977761110517\n"
          ]
        }
      ]
    },
    {
      "cell_type": "code",
      "source": [
        "print(\"\\nClassification Report:\\n\", classification_report(y_test_encoded, y_pred))"
      ],
      "metadata": {
        "colab": {
          "base_uri": "https://localhost:8080/"
        },
        "id": "IDmwred1RxSI",
        "outputId": "88ca0cdc-0094-4a4d-86f7-479bbbb1ed4b"
      },
      "execution_count": 31,
      "outputs": [
        {
          "output_type": "stream",
          "name": "stdout",
          "text": [
            "\n",
            "Classification Report:\n",
            "               precision    recall  f1-score   support\n",
            "\n",
            "           0       0.93      0.90      0.91      6885\n",
            "           1       0.39      0.51      0.45       915\n",
            "\n",
            "    accuracy                           0.85      7800\n",
            "   macro avg       0.66      0.70      0.68      7800\n",
            "weighted avg       0.87      0.85      0.86      7800\n",
            "\n"
          ]
        }
      ]
    },
    {
      "cell_type": "code",
      "source": [
        "conf_matrix = confusion_matrix(y_test_encoded, y_pred)\n",
        "sns.heatmap(conf_matrix, annot=True, fmt='d', cmap='Reds', xticklabels=['No', 'Yes'], yticklabels=['No', 'Yes'])\n",
        "plt.title(\"Confusion Matrix\")\n",
        "plt.xlabel(\"Predicted\")\n",
        "plt.ylabel(\"Actual\")\n",
        "plt.show()"
      ],
      "metadata": {
        "colab": {
          "base_uri": "https://localhost:8080/",
          "height": 472
        },
        "id": "yQ6A8fWpTbbt",
        "outputId": "f76685b0-847c-4e5d-f758-220433d19ed5"
      },
      "execution_count": 32,
      "outputs": [
        {
          "output_type": "display_data",
          "data": {
            "text/plain": [
              "<Figure size 640x480 with 2 Axes>"
            ],
            "image/png": "[encoded data removed]"
          },
          "metadata": {}
        }
      ]
    },
    {
      "cell_type": "code",
      "source": [
        "plt.figure(figsize=(12, 6))\n",
        "\n",
        "plt.subplot(1, 2, 1)\n",
        "plt.plot(history.history['accuracy'], label='Training Accuracy')\n",
        "plt.plot(history.history['val_accuracy'], label='Validation Accuracy')\n",
        "plt.title('Accuracy Over Epochs')\n",
        "plt.xlabel('Epochs')\n",
        "plt.ylabel('Accuracy')\n",
        "plt.legend()\n",
        "\n",
        "plt.subplot(1, 2, 2)\n",
        "plt.plot(history.history['loss'], label='Training Loss')\n",
        "plt.plot(history.history['val_loss'], label='Validation Loss')\n",
        "plt.title('Loss Over Epochs')\n",
        "plt.xlabel('Epochs')\n",
        "plt.ylabel('Loss')\n",
        "plt.legend()\n",
        "\n",
        "plt.show()\n"
      ],
      "metadata": {
        "colab": {
          "base_uri": "https://localhost:8080/",
          "height": 564
        },
        "id": "wsRB0CMB4vb4",
        "outputId": "372f6882-1292-45d1-fa51-6a226c03cf58"
      },
      "execution_count": 33,
      "outputs": [
        {
          "output_type": "display_data",
          "data": {
            "text/plain": [
              "<Figure size 1200x600 with 2 Axes>"
            ],
            "image/png": "[encoded data removed]"
          },
          "metadata": {}
        }
      ]
    }
  ]
}